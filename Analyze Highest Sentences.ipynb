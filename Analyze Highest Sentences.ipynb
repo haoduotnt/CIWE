{
 "cells": [
  {
   "cell_type": "code",
   "execution_count": 1,
   "metadata": {
    "collapsed": true
   },
   "outputs": [],
   "source": [
    "import pandas as pd\n",
    "import random\n",
    "import numpy as np\n",
    "import networkx as nx\n",
    "import nltk\n",
    "import tensorflow as tf\n",
    "import collections\n",
    "import math\n",
    "import os.path\n",
    "from six.moves import xrange\n",
    "from sklearn.metrics.pairwise import cosine_similarity\n",
    "from sklearn.cluster import MiniBatchKMeans\n",
    "from sklearn.cluster import Birch\n",
    "import  glob\n",
    "import pickle\n",
    "import anytree"
   ]
  },
  {
   "cell_type": "code",
   "execution_count": 4,
   "metadata": {
    "collapsed": true
   },
   "outputs": [],
   "source": [
    "dc = open('./dic.pkl','rb')\n",
    "rdc = open('./rev_dic.pkl', 'rb')\n",
    "bottom = pickle.load(dc)\n",
    "top = pickle.load(rdc)\n",
    "dc.close()\n",
    "rdc.close()\n",
    "\n",
    "embeds = np.load('./fembd.npy')"
   ]
  },
  {
   "cell_type": "code",
   "execution_count": 217,
   "metadata": {
    "collapsed": false,
    "scrolled": true
   },
   "outputs": [],
   "source": [
    "most_top = list(top.keys())[-7:]"
   ]
  },
  {
   "cell_type": "code",
   "execution_count": 74,
   "metadata": {
    "collapsed": false
   },
   "outputs": [],
   "source": [
    "def sample(label, top, parent=None):\n",
    "    if label > 1999:\n",
    "        node = anytree.Node(label, parent=parent)\n",
    "        total = sum(list(top[label].values()))\n",
    "        probabilities = [top[label][item]/total \n",
    "                                 for item in top[label]]\n",
    "        left = [item[0] for item in top[label]]\n",
    "        right = [item[1] for item in top[label]]\n",
    "        l_choice = np.random.choice(left, p=probabilities)\n",
    "        r_choice = np.random.choice(right, p=probabilities)\n",
    "        sample(l_choice, top, node)\n",
    "        sample(r_choice, top, node)\n",
    "    else:\n",
    "        parent = anytree.Node(label, parent=parent)\n",
    "        node = anytree.Node(top[label], parent=parent)\n",
    "    \n",
    "    return node\n",
    "            "
   ]
  },
  {
   "cell_type": "code",
   "execution_count": 242,
   "metadata": {
    "collapsed": false
   },
   "outputs": [],
   "source": [
    "def sample_sent(label, top):\n",
    "    if label > 1999:\n",
    "        total = sum(list(top[label].values()))\n",
    "        probabilities = [top[label][item]/total \n",
    "                                 for item in top[label]]\n",
    "        choices = list(top[label].keys())\n",
    "        indices = [i for i in range(len(choices))]\n",
    "        choice = choices[np.random.choice(indices, p=probabilities)]\n",
    "        l_sent = sample_sent(choice[0], top)\n",
    "        r_sent = sample_sent(choice[1], top)\n",
    "        \n",
    "        return l_sent +  r_sent\n",
    "    else:\n",
    "        return [label]\n",
    "    \n"
   ]
  },
  {
   "cell_type": "code",
   "execution_count": 244,
   "metadata": {
    "collapsed": false,
    "scrolled": true
   },
   "outputs": [],
   "source": [
    "test = sample_sent(10000, top)"
   ]
  },
  {
   "cell_type": "code",
   "execution_count": 248,
   "metadata": {
    "collapsed": false
   },
   "outputs": [],
   "source": [
    "test.remove(0)"
   ]
  },
  {
   "cell_type": "code",
   "execution_count": 249,
   "metadata": {
    "collapsed": false
   },
   "outputs": [
    {
     "data": {
      "text/plain": [
       "'a sciences has optical fiber where species describe morphological related to being applied - UNK more reliable community , latitude UNK UNK UNK can synthesize contribute to UNK a a general'"
      ]
     },
     "execution_count": 249,
     "metadata": {},
     "output_type": "execute_result"
    }
   ],
   "source": [
    "\" \".join([top[label] for label in test])"
   ]
  },
  {
   "cell_type": "code",
   "execution_count": 224,
   "metadata": {
    "collapsed": false
   },
   "outputs": [
    {
     "name": "stdout",
     "output_type": "stream",
     "text": [
      "10000\n",
      "├── 9205\n",
      "│   ├── 8798\n",
      "│   │   ├── 6484\n",
      "│   │   │   ├── 4414\n",
      "│   │   │   │   ├── 3\n",
      "│   │   │   │   │   └── .\n",
      "│   │   │   │   └── 12\n",
      "│   │   │   │       └── The\n",
      "│   │   │   └── 4188\n",
      "│   │   │       ├── 12\n",
      "│   │   │       │   └── The\n",
      "│   │   │       └── 170\n",
      "│   │   │           └── focus\n",
      "│   │   └── 6647\n",
      "│   │       ├── 4521\n",
      "│   │       │   ├── 865\n",
      "│   │       │   │   └── discrete\n",
      "│   │       │   └── 522\n",
      "│   │       │       └── classes\n",
      "│   │       └── 4202\n",
      "│   │           ├── 157\n",
      "│   │           │   └── performance\n",
      "│   │           └── 2\n",
      "│   │               └── of\n",
      "│   └── 8516\n",
      "│       ├── 7434\n",
      "│       │   ├── 5879\n",
      "│       │   │   ├── 1295\n",
      "│       │   │   │   └── record\n",
      "│       │   │   └── 0\n",
      "│       │   │       └── UNK\n",
      "│       │   └── 4401\n",
      "│       │       ├── 0\n",
      "│       │       │   └── UNK\n",
      "│       │       └── 9\n",
      "│       │           └── a\n",
      "│       └── 6381\n",
      "│           ├── 5040\n",
      "│           │   ├── 1670\n",
      "│           │   │   └── establishing\n",
      "│           │   └── 9\n",
      "│           │       └── a\n",
      "│           └── 5414\n",
      "│               ├── 9\n",
      "│               │   └── a\n",
      "│               └── 0\n",
      "│                   └── UNK\n",
      "└── 9513\n",
      "    ├── 8171\n",
      "    │   ├── 7335\n",
      "    │   │   ├── 5011\n",
      "    │   │   │   ├── 0\n",
      "    │   │   │   │   └── UNK\n",
      "    │   │   │   └── 1\n",
      "    │   │   │       └── the\n",
      "    │   │   └── 5951\n",
      "    │   │       ├── 603\n",
      "    │   │       │   └── upon\n",
      "    │   │       └── 54\n",
      "    │   │           └── two\n",
      "    │   └── 6330\n",
      "    │       ├── 5337\n",
      "    │       │   ├── 3\n",
      "    │       │   │   └── .\n",
      "    │       │   └── 21\n",
      "    │       │       └── This\n",
      "    │       └── 4760\n",
      "    │           ├── 3\n",
      "    │           │   └── .\n",
      "    │           └── 543\n",
      "    │               └── 000\n",
      "    └── 8207\n",
      "        ├── 6389\n",
      "        │   ├── 4867\n",
      "        │   │   ├── 0\n",
      "        │   │   │   └── UNK\n",
      "        │   │   └── 28\n",
      "        │   │       └── an\n",
      "        │   └── 4261\n",
      "        │       ├── 28\n",
      "        │       │   └── an\n",
      "        │       └── 0\n",
      "        │           └── UNK\n",
      "        └── 7333\n",
      "            ├── 4181\n",
      "            │   ├── 20\n",
      "            │   │   └── )\n",
      "            │   └── 0\n",
      "            │       └── UNK\n",
      "            └── 4864\n",
      "                ├── 0\n",
      "                │   └── UNK\n",
      "                └── 799\n",
      "                    └── predict\n"
     ]
    }
   ],
   "source": [
    "samp = sample(10000, top)\n",
    "\n",
    "for pre, _, node in anytree.RenderTree(samp):\n",
    "    print(\"%s%s\" % (pre, node.name))"
   ]
  },
  {
   "cell_type": "code",
   "execution_count": 95,
   "metadata": {
    "collapsed": false
   },
   "outputs": [],
   "source": [
    "class Reason:\n",
    "    def __init__(self, label, top):\n",
    "        if label > 2000:\n",
    "            self.l_children = [Reason(item[0], top) for item in top[label]]\n",
    "            self.r_children = [Reason(item[1], top) for item in top[label]]\n",
    "            total = sum(top[label][item] for item in top[label])\n",
    "            self.probabilities = [top[label][item]/total for item in top[label]]\n",
    "        else:\n",
    "            self.children = [item for item in top[label]]\n",
    "        \n",
    "        self.label = label\n",
    "    \n",
    "    def sample(self):\n",
    "        if self.label > 2000:\n",
    "            return np.random.choice(self.l_children, size=1, \n",
    "                                    p=self.probabilities)(),\\\n",
    "                    np.random.choice(self.r_children, size=1,\n",
    "                                    p=self.probabilities)()\n",
    "        else:\n",
    "            return top[label]\n",
    "\n",
    "    "
   ]
  },
  {
   "cell_type": "code",
   "execution_count": 91,
   "metadata": {
    "collapsed": true
   },
   "outputs": [],
   "source": [
    "class R_Tree:\n",
    "    def __init__(self, m_top, top):\n",
    "        total = sum(sum(list(top[item].values())) \n",
    "                           for item in m_top)\n",
    "        self.probabilities = [sum(list(top[item].values()))/total \n",
    "                             for item in m_top]\n",
    "        \n",
    "        self.children = [Reason(child, top) for child in m_top]\n",
    "        \n",
    "    def sample(self):\n",
    "        return np.random.choice(self.children, size=1, \n",
    "                                p=self.probabilities)\n",
    "        "
   ]
  },
  {
   "cell_type": "code",
   "execution_count": 47,
   "metadata": {
    "collapsed": false
   },
   "outputs": [],
   "source": [
    "from functools import partial\n",
    "\n",
    "class Infix(object):\n",
    "    def __init__(self, func):\n",
    "        self.func = func\n",
    "    def __or__(self, other):\n",
    "        return self.func(other)\n",
    "    def __ror__(self, other):\n",
    "        return Infix(partial(self.func, other))\n",
    "    def __call__(self, v1, v2):\n",
    "        return self.func(v1, v2)"
   ]
  },
  {
   "cell_type": "code",
   "execution_count": null,
   "metadata": {
    "collapsed": true
   },
   "outputs": [],
   "source": []
  }
 ],
 "metadata": {
  "anaconda-cloud": {},
  "kernelspec": {
   "display_name": "Python [conda root]",
   "language": "python",
   "name": "conda-root-py"
  },
  "language_info": {
   "codemirror_mode": {
    "name": "ipython",
    "version": 3
   },
   "file_extension": ".py",
   "mimetype": "text/x-python",
   "name": "python",
   "nbconvert_exporter": "python",
   "pygments_lexer": "ipython3",
   "version": "3.5.2"
  }
 },
 "nbformat": 4,
 "nbformat_minor": 0
}
