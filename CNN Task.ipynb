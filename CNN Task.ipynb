{
 "cells": [
  {
   "cell_type": "code",
   "execution_count": 1,
   "metadata": {
    "collapsed": true
   },
   "outputs": [],
   "source": [
    "import pandas as pd\n",
    "import random\n",
    "import numpy as np\n",
    "import networkx as nx\n",
    "import nltk\n",
    "import tensorflow as tf\n",
    "import collections\n",
    "import math\n",
    "import os.path\n",
    "from six.moves import xrange\n",
    "from sklearn.metrics.pairwise import cosine_similarity\n",
    "from sklearn.cluster import MiniBatchKMeans\n",
    "from sklearn.cluster import Birch\n",
    "import  glob\n",
    "from pprint import pprint\n",
    "import pickle"
   ]
  },
  {
   "cell_type": "code",
   "execution_count": 2,
   "metadata": {
    "collapsed": true
   },
   "outputs": [],
   "source": [
    "Doc = collections.namedtuple('Doc',['investigator', 'amount', 'abstract'])\n",
    "\n",
    "def load2(fn):\n",
    "    doc = nltk.data.load(fn)\n",
    "    wrds = nltk.tokenize.wordpunct_tokenize(doc)\n",
    "    investigator = \" \".join(wrds[wrds.index(\"Investigator\")+2:\n",
    "                          min(wrds.index('@' if '@' in wrds else \"Abstract\", \n",
    "                                          wrds.index(\"Investigator\"))-1, \n",
    "                              wrds.index('(', wrds.index(\"Investigator\")))])\n",
    "    amount = int(wrds[wrds.index(\"Amt\") + 4: wrds.index('(', wrds.index(\"Amt\"))][0])\n",
    "    abstract = \" \".join(wrds[wrds.index('Abstract')+2:])\n",
    "    return Doc(investigator, amount, abstract)"
   ]
  },
  {
   "cell_type": "code",
   "execution_count": null,
   "metadata": {
    "collapsed": true
   },
   "outputs": [],
   "source": [
    "filenames = [fn for fn in glob.iglob('./text/Part*/*/*/*.txt', recursive=False)]\n",
    "words = []\n",
    "for i in range(4000):\n",
    "    words += load2(filenames[i]).abstract.split(\" \")"
   ]
  },
  {
   "cell_type": "code",
   "execution_count": 3,
   "metadata": {
    "collapsed": true
   },
   "outputs": [],
   "source": [
    "tree = pickle.load(open('rev_dic.pkl', 'rb'))\n",
    "dictionary = pickle.load(open('dic.pkl', 'rb'))"
   ]
  },
  {
   "cell_type": "code",
   "execution_count": 4,
   "metadata": {
    "collapsed": true
   },
   "outputs": [],
   "source": [
    "embeddings = np.load('./fembd.npy')\n",
    "network = nx.read_gpickle('./network.gpickle')"
   ]
  },
  {
   "cell_type": "code",
   "execution_count": 8,
   "metadata": {
    "collapsed": false
   },
   "outputs": [
    {
     "data": {
      "text/plain": [
       "(61850, 100)"
      ]
     },
     "execution_count": 8,
     "metadata": {},
     "output_type": "execute_result"
    }
   ],
   "source": [
    "embeddings.shape"
   ]
  },
  {
   "cell_type": "code",
   "execution_count": null,
   "metadata": {
    "collapsed": true
   },
   "outputs": [],
   "source": []
  }
 ],
 "metadata": {
  "kernelspec": {
   "display_name": "Python [conda root]",
   "language": "python",
   "name": "conda-root-py"
  },
  "language_info": {
   "codemirror_mode": {
    "name": "ipython",
    "version": 3
   },
   "file_extension": ".py",
   "mimetype": "text/x-python",
   "name": "python",
   "nbconvert_exporter": "python",
   "pygments_lexer": "ipython3",
   "version": "3.5.2"
  }
 },
 "nbformat": 4,
 "nbformat_minor": 0
}
