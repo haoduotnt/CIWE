{
 "cells": [
  {
   "cell_type": "code",
   "execution_count": 1,
   "metadata": {
    "collapsed": true
   },
   "outputs": [],
   "source": [
    "import pandas as pd\n",
    "import random\n",
    "import numpy as np\n",
    "import networkx as nx\n",
    "import nltk\n",
    "import tensorflow as tf\n",
    "import collections\n",
    "import math\n",
    "import os.path\n",
    "from six.moves import xrange\n",
    "from sklearn.metrics.pairwise import cosine_similarity\n",
    "from sklearn.cluster import MiniBatchKMeans\n",
    "from sklearn.cluster import Birch\n",
    "import  glob\n",
    "from pprint import pprint\n",
    "import pickle"
   ]
  },
  {
   "cell_type": "code",
   "execution_count": 2,
   "metadata": {
    "collapsed": true
   },
   "outputs": [],
   "source": [
    "Doc = collections.namedtuple('Doc',['investigator', 'amount', 'abstract'])\n",
    "\n",
    "def load2(fn):\n",
    "    doc = nltk.data.load(fn)\n",
    "    wrds = nltk.tokenize.wordpunct_tokenize(doc)\n",
    "    investigator = \" \".join(wrds[wrds.index(\"Investigator\")+2:\n",
    "                          min(wrds.index('@' if '@' in wrds else \"Abstract\", \n",
    "                                          wrds.index(\"Investigator\"))-1, \n",
    "                              wrds.index('(', wrds.index(\"Investigator\")))])\n",
    "    amount = int(wrds[wrds.index(\"Amt\") + 4: wrds.index('(', wrds.index(\"Amt\"))][0])\n",
    "    abstract = \" \".join(wrds[wrds.index('Abstract')+2:])\n",
    "    return Doc(investigator, amount, abstract)"
   ]
  },
  {
   "cell_type": "code",
   "execution_count": 4,
   "metadata": {
    "collapsed": true
   },
   "outputs": [],
   "source": [
    "filenames = [fn for fn in glob.iglob('./text/Part*/*/*/*.txt', recursive=False)]\n",
    "words = []\n",
    "for i in range(4000):\n",
    "    words += load2(filenames[i]).abstract.split(\" \")"
   ]
  },
  {
   "cell_type": "code",
   "execution_count": 5,
   "metadata": {
    "collapsed": true
   },
   "outputs": [],
   "source": [
    "w_vocab = np.unique(words)"
   ]
  },
  {
   "cell_type": "code",
   "execution_count": 6,
   "metadata": {
    "collapsed": false
   },
   "outputs": [
    {
     "data": {
      "text/plain": [
       "31850"
      ]
     },
     "execution_count": 6,
     "metadata": {},
     "output_type": "execute_result"
    }
   ],
   "source": [
    "len(w_vocab)"
   ]
  },
  {
   "cell_type": "code",
   "execution_count": 7,
   "metadata": {
    "collapsed": false
   },
   "outputs": [
    {
     "name": "stdout",
     "output_type": "stream",
     "text": [
      "Most common words (+UNK) [['UNK', 1], ('the', 39472), ('of', 37005), ('.', 29906), ('and', 26950), (',', 25266), ('to', 17952), ('in', 15637), ('will', 10950), ('a', 10623), ('-', 10106), ('The', 8042), ('is', 7897), ('be', 7580), ('for', 7342), ('on', 5197), ('(', 4685), ('are', 4335), ('that', 4277), (')', 4235)]\n",
      "Sample data [50, 1022, 1851, 5, 169, 5451, 2, 255, 8419, 142] ['In', 'tropical', 'forests', ',', 'most', 'colonization', 'of', 'small', 'disturbed', 'areas']\n"
     ]
    }
   ],
   "source": [
    "vocabulary_size = 31850\n",
    "\n",
    "def build_dataset(words):\n",
    "  count = [['UNK', -1]]\n",
    "  count.extend(collections.Counter(words).most_common(vocabulary_size - 1))\n",
    "  dictionary = dict()\n",
    "  for word, _ in count:\n",
    "    dictionary[word] = len(dictionary)\n",
    "  data = list()\n",
    "  unk_count = 0\n",
    "  for word in words:\n",
    "    if word in dictionary:\n",
    "      index = dictionary[word]\n",
    "    else:\n",
    "      index = 0  # dictionary['UNK']\n",
    "      unk_count += 1\n",
    "    data.append(index)\n",
    "  count[0][1] = unk_count\n",
    "  reverse_dictionary = dict(zip(dictionary.values(), dictionary.keys()))\n",
    "  return data, count, dictionary, reverse_dictionary\n",
    "\n",
    "data, count, dictionary, reverse_dictionary = build_dataset(words)\n",
    "#del words  # Hint to reduce memory.\n",
    "print('Most common words (+UNK)', count[:20])\n",
    "print('Sample data', data[:10], [reverse_dictionary[i] for i in data[:10]])\n",
    "\n",
    "data_index = 0"
   ]
  },
  {
   "cell_type": "code",
   "execution_count": 8,
   "metadata": {
    "collapsed": false
   },
   "outputs": [
    {
     "name": "stdout",
     "output_type": "stream",
     "text": [
      "5 , -> 50 In\n",
      "5 , -> 1022 tropical\n",
      "169 most -> 5 ,\n",
      "169 most -> 2 of\n",
      "5451 colonization -> 169 most\n",
      "5451 colonization -> 8419 disturbed\n",
      "2 of -> 5451 colonization\n",
      "2 of -> 8419 disturbed\n"
     ]
    }
   ],
   "source": [
    "# Step 3: Function to generate a training batch for the skip-gram model.\n",
    "def generate_batch(data, batch_size, num_skips, skip_window):\n",
    "  global data_index\n",
    "  assert batch_size % num_skips == 0\n",
    "  assert num_skips <= 2 * skip_window\n",
    "  batch = np.ndarray(shape=(batch_size), dtype=np.int32)\n",
    "  labels = np.ndarray(shape=(batch_size, 1), dtype=np.int32)\n",
    "  span = 2 * skip_window + 1 # [ skip_window target skip_window ]\n",
    "  buffer = collections.deque(maxlen=span)\n",
    "  for _ in range(span):\n",
    "    buffer.append(data[data_index])\n",
    "    data_index = (data_index + 1) % len(data)\n",
    "  for i in range(batch_size // num_skips):\n",
    "    target = skip_window  # target label at the center of the buffer\n",
    "    targets_to_avoid = [ skip_window ]\n",
    "    for j in range(num_skips):\n",
    "      while target in targets_to_avoid:\n",
    "        target = random.randint(0, span - 1)\n",
    "      targets_to_avoid.append(target)\n",
    "      batch[i * num_skips + j] = buffer[skip_window]\n",
    "      labels[i * num_skips + j, 0] = buffer[target]\n",
    "    buffer.append(data[data_index])\n",
    "    data_index = (data_index + 1) % len(data)\n",
    "  return batch, labels\n",
    "\n",
    "batch, labels = generate_batch(data, batch_size=8, num_skips=2, skip_window=3)\n",
    "for i in range(8):\n",
    "  print(batch[i], reverse_dictionary[batch[i]],\n",
    "      '->', labels[i, 0], reverse_dictionary[labels[i, 0]])\n",
    "\n",
    "# Step 4: Build and train a skip-gram model.\n",
    "\n",
    "batch_size = 240\n",
    "embedding_size = 100  # Dimension of the embedding vector.\n",
    "skip_window = 6       # How many words to consider left and right.\n",
    "num_skips = 6         # How many times to reuse an input to generate a label.\n",
    "\n",
    "# We pick a random validation set to sample nearest neighbors. Here we limit the\n",
    "# validation samples to the words that have a low numeric ID, which by\n",
    "# construction are also the most frequent.\n",
    "valid_size = 16     # Random set of words to evaluate similarity on.\n",
    "valid_window = 100  # Only pick dev samples in the head of the distribution.\n",
    "valid_examples = np.random.choice(valid_window, valid_size, replace=False)\n",
    "num_sampled = 100    # Number of negative examples to sample."
   ]
  },
  {
   "cell_type": "code",
   "execution_count": 9,
   "metadata": {
    "collapsed": false,
    "scrolled": true
   },
   "outputs": [
    {
     "name": "stdout",
     "output_type": "stream",
     "text": [
      "Average loss at step  0 :  370.46395874\n",
      "Average loss at step  2000 :  108.538758676\n",
      "Average loss at step  4000 :  33.862258956\n",
      "Average loss at step  6000 :  18.9935306528\n",
      "Average loss at step  8000 :  13.6198228078\n",
      "Average loss at step  10000 :  11.5406381334\n",
      "Average loss at step  12000 :  11.1455249362\n",
      "Average loss at step  14000 :  10.168638386\n",
      "Average loss at step  16000 :  7.31043463302\n",
      "Average loss at step  18000 :  5.58411948538\n",
      "Average loss at step  20000 :  5.56684179831\n"
     ]
    }
   ],
   "source": [
    "graph = tf.Graph()\n",
    "\n",
    "with graph.as_default():\n",
    "\n",
    "  # Input data.\n",
    "  train_inputs = tf.placeholder(tf.int32, shape=[batch_size])\n",
    "  train_labels = tf.placeholder(tf.int32, shape=[batch_size, 1])\n",
    "  valid_dataset = tf.constant(valid_examples, dtype=tf.int32)\n",
    "\n",
    "  # Ops and variables pinned to the CPU because of missing GPU implementation\n",
    "  with tf.device('/cpu:0'):\n",
    "    # Look up embeddings for inputs.\n",
    "    embeddings = tf.Variable(\n",
    "        tf.random_uniform([vocabulary_size, embedding_size], -1.0, 1.0))\n",
    "    embed = tf.nn.embedding_lookup(embeddings, train_inputs)\n",
    "\n",
    "    # Construct the variables for the NCE loss\n",
    "    nce_weights = tf.Variable(\n",
    "        tf.truncated_normal([vocabulary_size, embedding_size],\n",
    "                            stddev=1.0 / math.sqrt(embedding_size)))\n",
    "    nce_biases = tf.Variable(tf.zeros([vocabulary_size]))\n",
    "\n",
    "  # Compute the average NCE loss for the batch.\n",
    "  # tf.nce_loss automatically draws a new sample of the negative labels each\n",
    "  # time we evaluate the loss.\n",
    "  loss = tf.reduce_mean(\n",
    "      tf.nn.nce_loss(nce_weights, nce_biases, embed, train_labels,\n",
    "                     num_sampled, vocabulary_size))\n",
    "\n",
    "  # Construct the SGD optimizer using a learning rate of 1.0.\n",
    "  optimizer = tf.train.GradientDescentOptimizer(1.0).minimize(loss)\n",
    "\n",
    "  # Compute the cosine similarity between minibatch examples and all embeddings.\n",
    "  norm = tf.sqrt(tf.reduce_sum(tf.square(embeddings), 1, keep_dims=True))\n",
    "  normalized_embeddings = embeddings / norm\n",
    "  valid_embeddings = tf.nn.embedding_lookup(\n",
    "      normalized_embeddings, valid_dataset)\n",
    "  similarity = tf.matmul(\n",
    "      valid_embeddings, normalized_embeddings, transpose_b=True)\n",
    "\n",
    "  # Add variable initializer.\n",
    "  init = tf.initialize_all_variables()\n",
    "\n",
    "# Step 5: Begin training.\n",
    "num_steps = 20001\n",
    "\n",
    "with tf.Session(graph=graph) as session:\n",
    "    # We must initialize all variables before we use them.\n",
    "    init.run()\n",
    "    \n",
    "    average_loss = 0\n",
    "    for step in xrange(num_steps):\n",
    "        batch_inputs, batch_labels = generate_batch(data,\n",
    "            batch_size, num_skips, skip_window)\n",
    "        feed_dict = {train_inputs : batch_inputs, train_labels : batch_labels}\n",
    "\n",
    "    # We perform one update step by evaluating the optimizer op (including it\n",
    "    # in the list of returned values for session.run()\n",
    "        _, loss_val = session.run([optimizer, loss], feed_dict=feed_dict)\n",
    "        average_loss += loss_val\n",
    "                \n",
    "        if step % 2000 == 0:\n",
    "          if step > 0:\n",
    "            average_loss /= 2000\n",
    "          # The average loss is an estimate of the loss over the last 2000 batches.\n",
    "          print(\"Average loss at step \", step, \": \", average_loss)\n",
    "          average_loss = 0\n",
    "    final_embeddings = normalized_embeddings.eval()\n",
    "    "
   ]
  },
  {
   "cell_type": "markdown",
   "metadata": {},
   "source": [
    "Reduce Vocab to 5000 Groups"
   ]
  },
  {
   "cell_type": "code",
   "execution_count": 46,
   "metadata": {
    "collapsed": true
   },
   "outputs": [],
   "source": [
    "embd = np.array([final_embeddings[datum] for datum in data])\n",
    "fit = MiniBatchKMeans(n_clusters=5000, max_iter=200000, batch_size=2000)\n",
    "labels = fit.fit(embd).labels_\n",
    "vocabulary_size = fit.n_clusters"
   ]
  },
  {
   "cell_type": "markdown",
   "metadata": {},
   "source": [
    "Setup Tree for Recovering Words"
   ]
  },
  {
   "cell_type": "code",
   "execution_count": 12,
   "metadata": {
    "collapsed": false
   },
   "outputs": [],
   "source": [
    "reverse_dictionary[0] = 'UNK'"
   ]
  },
  {
   "cell_type": "code",
   "execution_count": 45,
   "metadata": {
    "collapsed": true
   },
   "outputs": [],
   "source": [
    "network = nx.DiGraph()"
   ]
  },
  {
   "cell_type": "code",
   "execution_count": 46,
   "metadata": {
    "collapsed": true
   },
   "outputs": [],
   "source": [
    "for word, number in dictionary.items():\n",
    "    network.add_node(number, word=word)"
   ]
  },
  {
   "cell_type": "code",
   "execution_count": 30,
   "metadata": {
    "collapsed": true
   },
   "outputs": [],
   "source": [
    "reverse_dictionary[0] = 'UNK'\n",
    "labels = data"
   ]
  },
  {
   "cell_type": "code",
   "execution_count": 31,
   "metadata": {
    "collapsed": false
   },
   "outputs": [],
   "source": [
    "gr_dict = {}\n",
    "rev_gr_dict = {}\n",
    "for index in range(len(data)):\n",
    "    if labels[index] not in rev_gr_dict:\n",
    "        rev_gr_dict[labels[index]] = collections.Counter()\n",
    "    if reverse_dictionary[data[index]] not in gr_dict:\n",
    "        gr_dict[reverse_dictionary[data[index]]] = labels[index]\n",
    "    rev_gr_dict[labels[index]].update([reverse_dictionary[data[index]]])"
   ]
  },
  {
   "cell_type": "markdown",
   "metadata": {},
   "source": [
    "Fit First Transitions"
   ]
  },
  {
   "cell_type": "markdown",
   "metadata": {},
   "source": [
    "## New Stuff Testing "
   ]
  },
  {
   "cell_type": "code",
   "execution_count": 44,
   "metadata": {
    "collapsed": false
   },
   "outputs": [],
   "source": [
    "nl_words2 = [data[0]]\n",
    "for i in range(len(data[:-1])):\n",
    "    nl_words2.extend([gr_dict[tuple(data[i:i+2])], data[i+1]])"
   ]
  },
  {
   "cell_type": "code",
   "execution_count": 48,
   "metadata": {
    "collapsed": false
   },
   "outputs": [],
   "source": [
    "nl_words3 = [(nl_words2[i], nl_words2[i+1]) for i in range(len(nl_words2)-1)]"
   ]
  },
  {
   "cell_type": "code",
   "execution_count": null,
   "metadata": {
    "collapsed": true
   },
   "outputs": [],
   "source": [
    "fit = MiniBatchKMeans(n_clusters=2000, max_iter=200000, batch_size=1000)\n",
    "nl_words = [(labels[i], labels[i+1]) for i in range(len(labels)-1)]\n",
    "embd = np.array([final_embeddings[datum[1]] - \\\n",
    "                 final_embeddings[datum[0]] for datum in nl_words])\n",
    "fit = fit.fit(embd)\n",
    "labels = fit.labels_ + vocabulary_size\n",
    "vocabulary_size += fit.n_clusters"
   ]
  },
  {
   "cell_type": "markdown",
   "metadata": {},
   "source": [
    "## Old STUFF"
   ]
  },
  {
   "cell_type": "code",
   "execution_count": 15,
   "metadata": {
    "collapsed": true
   },
   "outputs": [],
   "source": [
    "labels = data"
   ]
  },
  {
   "cell_type": "code",
   "execution_count": 17,
   "metadata": {
    "collapsed": true
   },
   "outputs": [],
   "source": [
    "fit = MiniBatchKMeans(n_clusters=5000, max_iter=200000, batch_size=5000)\n",
    "nl_words = [(labels[i], labels[i+1]) for i in range(len(labels)-1)]\n",
    "embd = np.array([final_embeddings[datum[1]] - \\\n",
    "                 final_embeddings[datum[0]] for datum in nl_words])\n",
    "fit = fit.fit(embd)\n",
    "labels = fit.labels_ + vocabulary_size\n",
    "vocabulary_size += fit.n_clusters"
   ]
  },
  {
   "cell_type": "code",
   "execution_count": 47,
   "metadata": {
    "collapsed": true
   },
   "outputs": [],
   "source": [
    "for index in range(len(labels)):\n",
    "    if labels[index] not in network:\n",
    "        network.add_node(labels[index], counts=collections.Counter())\n",
    "    if network.has_edge(nl_words[index][0],nl_words[index][1]):\n",
    "        network[nl_words[index][0]][nl_words[index][1]]['weight'] += 1\n",
    "    else:\n",
    "        network.add_edge(nl_words[index][0],\n",
    "                    nl_words[index][1], weight=1)\n",
    "    network.node[labels[index]]['counts'].update([\n",
    "        (nl_words[index][0], nl_words[index][1])])\n",
    "    "
   ]
  },
  {
   "cell_type": "code",
   "execution_count": 34,
   "metadata": {
    "collapsed": false
   },
   "outputs": [],
   "source": [
    "for index in range(len(nl_words[:-1])):\n",
    "    if labels[index] not in rev_gr_dict:\n",
    "        rev_gr_dict[labels[index]] = collections.Counter()\n",
    "    if nl_words[index] not in gr_dict:\n",
    "        gr_dict[nl_words[index]] = labels[index]\n",
    "    rev_gr_dict[labels[index]].update([nl_words[index]])"
   ]
  },
  {
   "cell_type": "markdown",
   "metadata": {},
   "source": [
    "Run Loop To Make Levels"
   ]
  },
  {
   "cell_type": "code",
   "execution_count": 39,
   "metadata": {
    "collapsed": true
   },
   "outputs": [],
   "source": [
    "nnl_data = data"
   ]
  },
  {
   "cell_type": "code",
   "execution_count": 98,
   "metadata": {
    "collapsed": true
   },
   "outputs": [],
   "source": [
    "nl_data = [nnl_data[0]]\n",
    "\n",
    "for i in range(len(nl_words)):\n",
    "    nl_data.extend([labels[i], nnl_data[i+1]])\n",
    "\n",
    "nnl_data = labels"
   ]
  },
  {
   "cell_type": "code",
   "execution_count": 99,
   "metadata": {
    "collapsed": false
   },
   "outputs": [
    {
     "name": "stdout",
     "output_type": "stream",
     "text": [
      "Average loss at step  0 :  462.020568848\n",
      "Average loss at step  2000 :  154.41441855\n",
      "Average loss at step  4000 :  52.3635837234\n",
      "Average loss at step  6000 :  26.7389970212\n",
      "Average loss at step  8000 :  16.4095976932\n",
      "Average loss at step  10000 :  10.026903705\n",
      "Average loss at step  12000 :  7.05871009189\n",
      "Average loss at step  14000 :  5.19008916959\n",
      "Average loss at step  16000 :  4.1020967851\n",
      "Average loss at step  18000 :  3.26669571501\n",
      "Average loss at step  20000 :  2.89260978785\n"
     ]
    }
   ],
   "source": [
    "graph = tf.Graph()\n",
    "\n",
    "with graph.as_default():\n",
    "\n",
    "  # Input data.\n",
    "  train_inputs = tf.placeholder(tf.int32, shape=[batch_size])\n",
    "  train_labels = tf.placeholder(tf.int32, shape=[batch_size, 1])\n",
    "  valid_dataset = tf.constant(valid_examples, dtype=tf.int32)\n",
    "\n",
    "  # Ops and variables pinned to the CPU because of missing GPU implementation\n",
    "  with tf.device('/cpu:0'):\n",
    "    # Look up embeddings for inputs.\n",
    "    embeddings = tf.Variable(\n",
    "        tf.random_uniform([vocabulary_size, embedding_size], -1.0, 1.0))\n",
    "    embed = tf.nn.embedding_lookup(embeddings, train_inputs)\n",
    "\n",
    "    # Construct the variables for the NCE loss\n",
    "    nce_weights = tf.Variable(\n",
    "        tf.truncated_normal([vocabulary_size, embedding_size],\n",
    "                            stddev=1.0 / math.sqrt(embedding_size)))\n",
    "    nce_biases = tf.Variable(tf.zeros([vocabulary_size]))\n",
    "\n",
    "  # Compute the average NCE loss for the batch.\n",
    "  # tf.nce_loss automatically draws a new sample of the negative labels each\n",
    "  # time we evaluate the loss.\n",
    "  loss = tf.reduce_mean(\n",
    "      tf.nn.nce_loss(nce_weights, nce_biases, embed, train_labels,\n",
    "                     num_sampled, vocabulary_size))\n",
    "\n",
    "  # Construct the SGD optimizer using a learning rate of 1.0.\n",
    "  optimizer = tf.train.GradientDescentOptimizer(1.0).minimize(loss)\n",
    "\n",
    "  # Compute the cosine similarity between minibatch examples and all embeddings.\n",
    "  norm = tf.sqrt(tf.reduce_sum(tf.square(embeddings), 1, keep_dims=True))\n",
    "  normalized_embeddings = embeddings / norm\n",
    "  valid_embeddings = tf.nn.embedding_lookup(\n",
    "      normalized_embeddings, valid_dataset)\n",
    "  similarity = tf.matmul(\n",
    "      valid_embeddings, normalized_embeddings, transpose_b=True)\n",
    "\n",
    "  # Add variable initializer.\n",
    "  init = tf.initialize_all_variables()\n",
    "\n",
    "# Step 5: Begin training.\n",
    "num_steps = 20001\n",
    "\n",
    "with tf.Session(graph=graph) as session:\n",
    "    # We must initialize all variables before we use them.\n",
    "    init.run()\n",
    "\n",
    "    average_loss = 0\n",
    "    for step in xrange(num_steps):\n",
    "        batch_inputs, batch_labels = generate_batch(nl_data,\n",
    "            batch_size, num_skips, skip_window)\n",
    "        feed_dict = {train_inputs : batch_inputs, train_labels : batch_labels}\n",
    "\n",
    "    # We perform one update step by evaluating the optimizer op (including it\n",
    "    # in the list of returned values for session.run()\n",
    "        _, loss_val = session.run([optimizer, loss], feed_dict=feed_dict)\n",
    "        average_loss += loss_val\n",
    "\n",
    "        if step % 2000 == 0:\n",
    "          if step > 0:\n",
    "            average_loss /= 2000\n",
    "          # The average loss is an estimate of the loss over the last 2000 batches.\n",
    "          print(\"Average loss at step \", step, \": \", average_loss)\n",
    "          average_loss = 0\n",
    "    final_embeddings = normalized_embeddings.eval()"
   ]
  },
  {
   "cell_type": "code",
   "execution_count": 94,
   "metadata": {
    "collapsed": false,
    "scrolled": true
   },
   "outputs": [
    {
     "data": {
      "text/plain": [
       "MiniBatchKMeans(batch_size=1000, compute_labels=True, init='k-means++',\n",
       "        init_size=None, max_iter=200000, max_no_improvement=10,\n",
       "        n_clusters=2000, n_init=3, random_state=None,\n",
       "        reassignment_ratio=0.01, tol=0.0, verbose=0)"
      ]
     },
     "execution_count": 94,
     "metadata": {},
     "output_type": "execute_result"
    }
   ],
   "source": [
    "fit.set_params(n_clusters=2000, batch_size=1000)"
   ]
  },
  {
   "cell_type": "markdown",
   "metadata": {},
   "source": [
    "Record all the lower level nodes which make up transitions and fit the"
   ]
  },
  {
   "cell_type": "code",
   "execution_count": 95,
   "metadata": {
    "collapsed": false
   },
   "outputs": [],
   "source": [
    "nl_words = [(labels[i], labels[i+1]) for i in range(len(labels)-1)]\n",
    "embd_l = np.array([final_embeddings[datum] for datum in nnl_data])\n",
    "fit = fit.fit(embd_l[1:] - embd_l[:-1])"
   ]
  },
  {
   "cell_type": "code",
   "execution_count": 96,
   "metadata": {
    "collapsed": true
   },
   "outputs": [],
   "source": [
    "labels = fit.labels_ + vocabulary_size\n",
    "vocabulary_size += fit.n_clusters\n",
    "for index in range(len(nl_words[:-1])):\n",
    "    if labels[index] not in rev_gr_dict:\n",
    "        rev_gr_dict[labels[index]] = collections.Counter()\n",
    "    if nl_words[index] not in gr_dict:\n",
    "        gr_dict[nl_words[index]] = labels[index]\n",
    "    rev_gr_dict[labels[index]].update([nl_words[index]])\n",
    "    "
   ]
  },
  {
   "cell_type": "code",
   "execution_count": 97,
   "metadata": {
    "collapsed": true
   },
   "outputs": [],
   "source": [
    "for index in range(len(labels)):\n",
    "    if labels[index] not in network:\n",
    "        network.add_node(labels[index], counts=collections.Counter())\n",
    "    if network.has_edge(nl_words[index][0],nl_words[index][1]):\n",
    "        network[nl_words[index][0]][nl_words[index][1]]['weight'] += 1\n",
    "    else:\n",
    "        network.add_edge(nl_words[index][0],\n",
    "                    nl_words[index][1], weight=1)\n",
    "    network.node[labels[index]]['counts'].update([\n",
    "        (nl_words[index][0], nl_words[index][1])])    "
   ]
  },
  {
   "cell_type": "markdown",
   "metadata": {},
   "source": [
    "Sample the Tree"
   ]
  },
  {
   "cell_type": "code",
   "execution_count": 77,
   "metadata": {
    "collapsed": false
   },
   "outputs": [
    {
     "name": "stdout",
     "output_type": "stream",
     "text": [
      "46958\n",
      "├── 45119\n",
      "│   ├── 41652\n",
      "│   │   ├── 36082\n",
      "│   │   │   ├── 424\n",
      "│   │   │   │   └── They\n",
      "│   │   │   └── 8\n",
      "│   │   │       └── will\n",
      "│   │   └── 32419\n",
      "│   │       ├── 955\n",
      "│   │       │   └── extremely\n",
      "│   │       └── 45\n",
      "│   │           └── important\n",
      "│   └── 40770\n",
      "│       ├── 31862\n",
      "│       │   ├── 24775\n",
      "│       │   │   └── undetectable\n",
      "│       │   └── 7\n",
      "│       │       └── in\n",
      "│       └── 32899\n",
      "│           ├── 2\n",
      "│           │   └── of\n",
      "│           └── 391\n",
      "│               └── Chemistry\n",
      "└── 44390\n",
      "    ├── 39007\n",
      "    │   ├── 32419\n",
      "    │   │   ├── 13\n",
      "    │   │   │   └── be\n",
      "    │   │   └── 45\n",
      "    │   │       └── important\n",
      "    │   └── 34586\n",
      "    │       ├── 45\n",
      "    │       │   └── important\n",
      "    │       └── 641\n",
      "    │           └── implications\n",
      "    └── 40377\n",
      "        ├── 34586\n",
      "        │   ├── 45\n",
      "        │   │   └── important\n",
      "        │   └── 209\n",
      "        │       └── because\n",
      "        └── 32540\n",
      "            ├── 18\n",
      "            │   └── that\n",
      "            └── 565\n",
      "                └── often\n"
     ]
    }
   ],
   "source": [
    "test = collections.Counter(nl_data).most_common(50)[0][0]\n",
    "samp = sample(test, rev_gr_dict)\n",
    "for pre, _, node in anytree.RenderTree(samp):\n",
    "    print(\"%s%s\" % (pre, node.name))"
   ]
  },
  {
   "cell_type": "code",
   "execution_count": 74,
   "metadata": {
    "collapsed": false
   },
   "outputs": [],
   "source": [
    "from anytree.dotexport import RenderTreeGraph\n",
    "tree = RenderTreeGraph(samp)\n",
    "tree.to_picture('./test14.png')"
   ]
  },
  {
   "cell_type": "code",
   "execution_count": 67,
   "metadata": {
    "collapsed": false
   },
   "outputs": [],
   "source": [
    "import anytree\n",
    "def sample(label, top, parent=None):\n",
    "    if not(type(label) == str) and label > 3719:\n",
    "        node = anytree.Node(label, parent=parent)\n",
    "        total = sum(list(top[label].values()))\n",
    "        probabilities = [top[label][item]/total \n",
    "                                 for item in top[label]]\n",
    "        choices = list(top[label].keys())\n",
    "        if len(choices) == 1 and type(choices[0]) == str:\n",
    "            anytree.Node(choices[0], parent=node)\n",
    "        else:\n",
    "            indices = [i for i in range(len(choices))]\n",
    "            choice = choices[np.random.choice(indices, p=probabilities)]\n",
    "            sample(choice[0], top, node)\n",
    "            sample(choice[1], top, node)\n",
    "    else:\n",
    "        parent = anytree.Node(label, parent=parent)\n",
    "        probabilities = list(top[label].values())\n",
    "        if len(probabilities) > 1:\n",
    "            total = sum(list(top[label].values()))\n",
    "            probabilities = np.array(probabilities)/total\n",
    "            choices = list(top[label].keys())\n",
    "            indices = [i for i in range(len(choices))]\n",
    "            choice = choices[np.random.choice(indices, p=probabilities)]\n",
    "            node = anytree.Node(choice, parent=parent)\n",
    "        else:\n",
    "            node = anytree.Node(list(top[label].keys())[0], parent=parent)\n",
    "    \n",
    "    return node"
   ]
  },
  {
   "cell_type": "code",
   "execution_count": 68,
   "metadata": {
    "collapsed": true
   },
   "outputs": [],
   "source": [
    "def sample_sent(label, top):\n",
    "    if type(list(top[label].keys())[0]) == tuple:\n",
    "        total = sum(list(top[label].values()))\n",
    "        probabilities = [top[label][item]/total \n",
    "                                 for item in top[label]]\n",
    "        choices = list(top[label].keys())\n",
    "        indices = [i for i in range(len(choices))]\n",
    "        choice = choices[np.random.choice(indices, p=probabilities)]\n",
    "        l_sent = sample_sent(choice[0], top)\n",
    "        r_sent = sample_sent(choice[1], top)\n",
    "        \n",
    "        return l_sent +  r_sent\n",
    "    else:\n",
    "        return [label]"
   ]
  },
  {
   "cell_type": "code",
   "execution_count": 100,
   "metadata": {
    "collapsed": false
   },
   "outputs": [],
   "source": [
    "revdic = open('rev_dic.pkl', 'wb')\n",
    "\n",
    "pickle.dump(rev_gr_dict, revdic, protocol=3)\n",
    "\n",
    "revdic.close()\n",
    "dic = open('dic.pkl', 'wb')\n",
    "pickle.dump(gr_dict, dic, protocol=3)\n",
    "\n",
    "np.save('./fembd.npy', final_embeddings)\n",
    "nx.write_gpickle(network, './network.gpickle')"
   ]
  },
  {
   "cell_type": "markdown",
   "metadata": {},
   "source": [
    "Tree Training"
   ]
  },
  {
   "cell_type": "code",
   "execution_count": 101,
   "metadata": {
    "collapsed": false,
    "scrolled": true
   },
   "outputs": [],
   "source": [
    "dc = open('./dic.pkl','rb')\n",
    "rdc = open('./rev_dic.pkl', 'rb')\n",
    "bottom = pickle.load(dc, )\n",
    "top = pickle.load(rdc)\n",
    "dc.close()\n",
    "rdc.close()\n"
   ]
  },
  {
   "cell_type": "code",
   "execution_count": 58,
   "metadata": {
    "collapsed": false
   },
   "outputs": [],
   "source": [
    "for i in range(len(nnl_data)):\n",
    "    nnnl_data.extend([nnl_data[i], nl_data[i+1], data[i+1]])"
   ]
  },
  {
   "cell_type": "code",
   "execution_count": 113,
   "metadata": {
    "collapsed": false,
    "scrolled": true
   },
   "outputs": [
    {
     "name": "stdout",
     "output_type": "stream",
     "text": [
      "Average loss at step  0 :  359.297271729\n",
      "Average loss at step  2000 :  73.6223668047\n",
      "Average loss at step  4000 :  10.6700518448\n",
      "Average loss at step  6000 :  6.15450251514\n",
      "Average loss at step  8000 :  5.11485475594\n",
      "Average loss at step  10000 :  4.7450978049\n",
      "Average loss at step  12000 :  4.38066986352\n",
      "Average loss at step  14000 :  4.09571653277\n",
      "Average loss at step  16000 :  3.95512743896\n",
      "Average loss at step  18000 :  3.54849309093\n",
      "Average loss at step  20000 :  3.20592445511\n"
     ]
    }
   ],
   "source": [
    "graph = tf.Graph()\n",
    "\n",
    "with graph.as_default():\n",
    "\n",
    "  # Input data.\n",
    "  train_inputs = tf.placeholder(tf.int32, shape=[batch_size])\n",
    "  train_labels = tf.placeholder(tf.int32, shape=[batch_size, 1])\n",
    "  valid_dataset = tf.constant(valid_examples, dtype=tf.int32)\n",
    "\n",
    "  # Ops and variables pinned to the CPU because of missing GPU implementation\n",
    "  with tf.device('/cpu:0'):\n",
    "    # Look up embeddings for inputs.\n",
    "    embeddings = tf.Variable(\n",
    "        tf.random_uniform([vocabulary_size, embedding_size], -1.0, 1.0))\n",
    "    embed = tf.nn.embedding_lookup(embeddings, train_inputs)\n",
    "\n",
    "    # Construct the variables for the NCE loss\n",
    "    nce_weights = tf.Variable(\n",
    "        tf.truncated_normal([vocabulary_size, embedding_size],\n",
    "                            stddev=1.0 / math.sqrt(embedding_size)))\n",
    "    nce_biases = tf.Variable(tf.zeros([vocabulary_size]))\n",
    "\n",
    "  # Compute the average NCE loss for the batch.\n",
    "  # tf.nce_loss automatically draws a new sample of the negative labels each\n",
    "  # time we evaluate the loss.\n",
    "  loss = tf.reduce_mean(\n",
    "      tf.nn.nce_loss(nce_weights, nce_biases, embed, train_labels,\n",
    "                     num_sampled, vocabulary_size))\n",
    "\n",
    "  # Construct the SGD optimizer using a learning rate of 1.0.\n",
    "  optimizer = tf.train.GradientDescentOptimizer(1.0).minimize(loss)\n",
    "\n",
    "  # Compute the cosine similarity between minibatch examples and all embeddings.\n",
    "  norm = tf.sqrt(tf.reduce_sum(tf.square(embeddings), 1, keep_dims=True))\n",
    "  normalized_embeddings = embeddings / norm\n",
    "  valid_embeddings = tf.nn.embedding_lookup(\n",
    "      normalized_embeddings, valid_dataset)\n",
    "  similarity = tf.matmul(\n",
    "      valid_embeddings, normalized_embeddings, transpose_b=True)\n",
    "\n",
    "  # Add variable initializer.\n",
    "  init = tf.initialize_all_variables()\n",
    "\n",
    "# Step 5: Begin training.\n",
    "num_steps = 20001\n",
    "\n",
    "with tf.Session(graph=graph) as session:\n",
    "    # We must initialize all variables before we use them.\n",
    "    init.run()\n",
    "\n",
    "    average_loss = 0\n",
    "    for step in xrange(num_steps):\n",
    "        batch_inputs, batch_labels = generate_batch(nnnl_data,\n",
    "            batch_size, num_skips, skip_window)\n",
    "        feed_dict = {train_inputs : batch_inputs, train_labels : batch_labels}\n",
    "\n",
    "    # We perform one update step by evaluating the optimizer op (including it\n",
    "    # in the list of returned values for session.run()\n",
    "        _, loss_val = session.run([optimizer, loss], feed_dict=feed_dict)\n",
    "        average_loss += loss_val\n",
    "\n",
    "        if step % 2000 == 0:\n",
    "          if step > 0:\n",
    "            average_loss /= 2000\n",
    "          # The average loss is an estimate of the loss over the last 2000 batches.\n",
    "          print(\"Average loss at step \", step, \": \", average_loss)\n",
    "          average_loss = 0\n",
    "    final_embeddings = normalized_embeddings.eval()"
   ]
  },
  {
   "cell_type": "code",
   "execution_count": null,
   "metadata": {
    "collapsed": true
   },
   "outputs": [],
   "source": []
  },
  {
   "cell_type": "code",
   "execution_count": 110,
   "metadata": {
    "collapsed": false
   },
   "outputs": [],
   "source": [
    "nnnl_words = [(nnnl_data[i], nnnl_data[i+1]) for i in range(len(nnnl_data)-1)]\n",
    "embd_l = np.array([final_embeddings[datum] for datum in nnnl_data])\n",
    "fit = fit.fit(embd_l[1:] - embd_l[:-1])"
   ]
  },
  {
   "cell_type": "code",
   "execution_count": 111,
   "metadata": {
    "collapsed": true
   },
   "outputs": [],
   "source": [
    "labels = fit.labels_ + vocabulary_size\n",
    "vocabulary_size += fit.n_clusters\n",
    "for index in range(len(nl_words[:-1])):\n",
    "    if labels[index] not in rev_gr_dict:\n",
    "        rev_gr_dict[labels[index]] = collections.Counter()\n",
    "    if nl_words[index] not in gr_dict:\n",
    "        gr_dict[nl_words[index]] = labels[index]\n",
    "    rev_gr_dict[labels[index]].update([nl_words[index]])\n",
    "    "
   ]
  },
  {
   "cell_type": "code",
   "execution_count": 112,
   "metadata": {
    "collapsed": false
   },
   "outputs": [],
   "source": [
    "nnnl_data = [nnnl_words[0][0]]\n",
    "\n",
    "for i in range(len(labels)):\n",
    "    nnnl_data.extend([labels[i], nnnl_words[i][1]])\n",
    "\n",
    "nnnnl_data = labels"
   ]
  },
  {
   "cell_type": "code",
   "execution_count": null,
   "metadata": {
    "collapsed": true
   },
   "outputs": [],
   "source": []
  }
 ],
 "metadata": {
  "anaconda-cloud": {},
  "kernelspec": {
   "display_name": "Python [default]",
   "language": "python",
   "name": "python3"
  },
  "language_info": {
   "codemirror_mode": {
    "name": "ipython",
    "version": 3
   },
   "file_extension": ".py",
   "mimetype": "text/x-python",
   "name": "python",
   "nbconvert_exporter": "python",
   "pygments_lexer": "ipython3",
   "version": "3.5.2"
  }
 },
 "nbformat": 4,
 "nbformat_minor": 0
}
