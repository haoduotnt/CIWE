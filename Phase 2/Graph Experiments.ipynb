{
 "cells": [
  {
   "cell_type": "code",
   "execution_count": 1,
   "metadata": {
    "collapsed": true
   },
   "outputs": [],
   "source": [
    "import pandas as pd\n",
    "import random\n",
    "import numpy as np\n",
    "import networkx as nx\n",
    "import nltk\n",
    "import tensorflow as tf\n",
    "import collections\n",
    "import math\n",
    "import scipy.spatial as ssp"
   ]
  },
  {
   "cell_type": "code",
   "execution_count": 4,
   "metadata": {
    "collapsed": true
   },
   "outputs": [],
   "source": [
    "def load():\n",
    "    ppp = nltk.data.load('../../Downloads/ppp.txt', encoding='utf8')\n",
    "    words_p = nltk.tokenize.wordpunct_tokenize(ppp)[130:]\n",
    "    alw = nltk.data.load('../../Downloads/alw.txt', encoding='utf8')\n",
    "    words_a = nltk.tokenize.wordpunct_tokenize(alw)[143:]\n",
    "    words = words_a + words_p\n",
    "    return words\n"
   ]
  },
  {
   "cell_type": "code",
   "execution_count": 7,
   "metadata": {
    "collapsed": true
   },
   "outputs": [],
   "source": [
    "def get_sentences(words):\n",
    "    sentences_word  = []\n",
    "    sent_word = []\n",
    "    for index, word in enumerate(words):\n",
    "        if word in ['?','.','!']:\n",
    "            sent_word += [word]\n",
    "            sentences_word += [sent_word]\n",
    "            sent_word = []\n",
    "        else:\n",
    "            sent_word += [word]\n",
    "    return sentences_word"
   ]
  },
  {
   "cell_type": "code",
   "execution_count": 146,
   "metadata": {
    "collapsed": false
   },
   "outputs": [],
   "source": [
    "def in_embed_form(batch, KB, dic):\n",
    "    # at some point instead of just randomly choosing,\n",
    "    # we can use a neato estimation function for it.\n",
    "    NK_pre = np.array(list(map(lambda word: \n",
    "                     KB[dic[word]] if word in dic \\\n",
    "                      else np.random.uniform(size=(1, 100)), batch)))\n",
    "    NK = np.concatenate([NK_pre[:-1], NK_pre[1:]], axis=1)\n",
    "    return NK"
   ]
  },
  {
   "cell_type": "code",
   "execution_count": 203,
   "metadata": {
    "collapsed": false
   },
   "outputs": [],
   "source": [
    "def find_X_sets(NK, KB, alpha):\n",
    "    # NK is new knowledge\n",
    "    # KB is our knowledge base so far\n",
    "    # alpha is the deviation from the mean distance a good vector\n",
    "    # to model our ideal will be\n",
    "    x_ideal = NK[:, 1] - NK[:, 0].reshape(len(NK), NK.shape[-1])\n",
    "    dists = vector_cos5(KB, x_ideal[0])\n",
    "    return dists\n",
    "    X = np.where((dists > 0) & (dists < alpha)) \n",
    "    return X"
   ]
  },
  {
   "cell_type": "code",
   "execution_count": 5,
   "metadata": {
    "collapsed": false
   },
   "outputs": [],
   "source": [
    "words = load()"
   ]
  },
  {
   "cell_type": "code",
   "execution_count": 217,
   "metadata": {
    "collapsed": false
   },
   "outputs": [],
   "source": [
    "NK = in_embed_form([\"hello\", \"good-bye\", \"woops\"], [], [])\n",
    "\n",
    "KB = np.random.random_sample(size=(500, 100))"
   ]
  },
  {
   "cell_type": "code",
   "execution_count": 148,
   "metadata": {
    "collapsed": false
   },
   "outputs": [
    {
     "data": {
      "text/plain": [
       "(2, 2, 100)"
      ]
     },
     "execution_count": 148,
     "metadata": {},
     "output_type": "execute_result"
    }
   ],
   "source": [
    "NK.shape"
   ]
  },
  {
   "cell_type": "code",
   "execution_count": 174,
   "metadata": {
    "collapsed": false
   },
   "outputs": [],
   "source": [
    "shf = np.arange(len(KB))\n",
    "np.random.shuffle(shf)\n",
    "s_dists = ((KB - KB[shf])**2).sum(axis=1)\n",
    "alpha = (s_dists.mean(axis=0) + s_dists.std(axis=0))"
   ]
  },
  {
   "cell_type": "code",
   "execution_count": 249,
   "metadata": {
    "collapsed": true
   },
   "outputs": [],
   "source": [
    "import operator\n",
    "def dot_product2(v1, v2):\n",
    "    return sum(map(operator.mul, v1, v2), axis=0)\n",
    "\n",
    "\n",
    "def vector_cos5(v1, v2):\n",
    "    prod = dot_product2(v1, v2)\n",
    "    len1 = np.sqrt(dot_product2(v1, v1))\n",
    "    len2 = np.sqrt(dot_product2(v2, v2))\n",
    "    return prod / (len1 * len2)\n"
   ]
  },
  {
   "cell_type": "code",
   "execution_count": 178,
   "metadata": {
    "collapsed": false
   },
   "outputs": [
    {
     "data": {
      "text/plain": [
       "2.0807058835338248"
      ]
     },
     "execution_count": 178,
     "metadata": {},
     "output_type": "execute_result"
    }
   ],
   "source": [
    "s_dists.std(axis=0)"
   ]
  },
  {
   "cell_type": "code",
   "execution_count": 204,
   "metadata": {
    "collapsed": false
   },
   "outputs": [],
   "source": [
    "X = find_X_sets(NK, KB, alpha)"
   ]
  },
  {
   "cell_type": "code",
   "execution_count": 219,
   "metadata": {
    "collapsed": false,
    "scrolled": true
   },
   "outputs": [],
   "source": [
    "test = KB[np.random.randint(0, len(KB), size=(100))]"
   ]
  },
  {
   "cell_type": "code",
   "execution_count": 250,
   "metadata": {
    "collapsed": false,
    "scrolled": true
   },
   "outputs": [
    {
     "ename": "TypeError",
     "evalue": "('sum() takes no keyword arguments', 'occurred at index 0')",
     "output_type": "error",
     "traceback": [
      "\u001b[0;31m---------------------------------------------------------------------------\u001b[0m",
      "\u001b[0;31mTypeError\u001b[0m                                 Traceback (most recent call last)",
      "\u001b[0;32m<ipython-input-250-6834b04a0c8d>\u001b[0m in \u001b[0;36m<module>\u001b[0;34m()\u001b[0m\n\u001b[1;32m      1\u001b[0m mhm = np.stack((pd.DataFrame(KB).apply(\n\u001b[1;32m      2\u001b[0m             lambda row: vector_cos5(row, test_row).argmin(axis=0), axis=1)\n\u001b[0;32m----> 3\u001b[0;31m           for test_row in test), axis=0)\n\u001b[0m",
      "\u001b[0;32m/home/lenny/anaconda3/lib/python3.5/site-packages/numpy/core/shape_base.py\u001b[0m in \u001b[0;36mstack\u001b[0;34m(arrays, axis)\u001b[0m\n\u001b[1;32m    331\u001b[0m \u001b[0;34m\u001b[0m\u001b[0m\n\u001b[1;32m    332\u001b[0m     \"\"\"\n\u001b[0;32m--> 333\u001b[0;31m     \u001b[0marrays\u001b[0m \u001b[0;34m=\u001b[0m \u001b[0;34m[\u001b[0m\u001b[0masanyarray\u001b[0m\u001b[0;34m(\u001b[0m\u001b[0marr\u001b[0m\u001b[0;34m)\u001b[0m \u001b[0;32mfor\u001b[0m \u001b[0marr\u001b[0m \u001b[0;32min\u001b[0m \u001b[0marrays\u001b[0m\u001b[0;34m]\u001b[0m\u001b[0;34m\u001b[0m\u001b[0m\n\u001b[0m\u001b[1;32m    334\u001b[0m     \u001b[0;32mif\u001b[0m \u001b[0;32mnot\u001b[0m \u001b[0marrays\u001b[0m\u001b[0;34m:\u001b[0m\u001b[0;34m\u001b[0m\u001b[0m\n\u001b[1;32m    335\u001b[0m         \u001b[0;32mraise\u001b[0m \u001b[0mValueError\u001b[0m\u001b[0;34m(\u001b[0m\u001b[0;34m'need at least one array to stack'\u001b[0m\u001b[0;34m)\u001b[0m\u001b[0;34m\u001b[0m\u001b[0m\n",
      "\u001b[0;32m/home/lenny/anaconda3/lib/python3.5/site-packages/numpy/core/shape_base.py\u001b[0m in \u001b[0;36m<listcomp>\u001b[0;34m(.0)\u001b[0m\n\u001b[1;32m    331\u001b[0m \u001b[0;34m\u001b[0m\u001b[0m\n\u001b[1;32m    332\u001b[0m     \"\"\"\n\u001b[0;32m--> 333\u001b[0;31m     \u001b[0marrays\u001b[0m \u001b[0;34m=\u001b[0m \u001b[0;34m[\u001b[0m\u001b[0masanyarray\u001b[0m\u001b[0;34m(\u001b[0m\u001b[0marr\u001b[0m\u001b[0;34m)\u001b[0m \u001b[0;32mfor\u001b[0m \u001b[0marr\u001b[0m \u001b[0;32min\u001b[0m \u001b[0marrays\u001b[0m\u001b[0;34m]\u001b[0m\u001b[0;34m\u001b[0m\u001b[0m\n\u001b[0m\u001b[1;32m    334\u001b[0m     \u001b[0;32mif\u001b[0m \u001b[0;32mnot\u001b[0m \u001b[0marrays\u001b[0m\u001b[0;34m:\u001b[0m\u001b[0;34m\u001b[0m\u001b[0m\n\u001b[1;32m    335\u001b[0m         \u001b[0;32mraise\u001b[0m \u001b[0mValueError\u001b[0m\u001b[0;34m(\u001b[0m\u001b[0;34m'need at least one array to stack'\u001b[0m\u001b[0;34m)\u001b[0m\u001b[0;34m\u001b[0m\u001b[0m\n",
      "\u001b[0;32m<ipython-input-250-6834b04a0c8d>\u001b[0m in \u001b[0;36m<genexpr>\u001b[0;34m(.0)\u001b[0m\n\u001b[1;32m      1\u001b[0m mhm = np.stack((pd.DataFrame(KB).apply(\n\u001b[1;32m      2\u001b[0m             lambda row: vector_cos5(row, test_row).argmin(axis=0), axis=1)\n\u001b[0;32m----> 3\u001b[0;31m           for test_row in test), axis=0)\n\u001b[0m",
      "\u001b[0;32m/home/lenny/anaconda3/lib/python3.5/site-packages/pandas/core/frame.py\u001b[0m in \u001b[0;36mapply\u001b[0;34m(self, func, axis, broadcast, raw, reduce, args, **kwds)\u001b[0m\n\u001b[1;32m   4131\u001b[0m                     \u001b[0;32mif\u001b[0m \u001b[0mreduce\u001b[0m \u001b[0;32mis\u001b[0m \u001b[0;32mNone\u001b[0m\u001b[0;34m:\u001b[0m\u001b[0;34m\u001b[0m\u001b[0m\n\u001b[1;32m   4132\u001b[0m                         \u001b[0mreduce\u001b[0m \u001b[0;34m=\u001b[0m \u001b[0;32mTrue\u001b[0m\u001b[0;34m\u001b[0m\u001b[0m\n\u001b[0;32m-> 4133\u001b[0;31m                     \u001b[0;32mreturn\u001b[0m \u001b[0mself\u001b[0m\u001b[0;34m.\u001b[0m\u001b[0m_apply_standard\u001b[0m\u001b[0;34m(\u001b[0m\u001b[0mf\u001b[0m\u001b[0;34m,\u001b[0m \u001b[0maxis\u001b[0m\u001b[0;34m,\u001b[0m \u001b[0mreduce\u001b[0m\u001b[0;34m=\u001b[0m\u001b[0mreduce\u001b[0m\u001b[0;34m)\u001b[0m\u001b[0;34m\u001b[0m\u001b[0m\n\u001b[0m\u001b[1;32m   4134\u001b[0m             \u001b[0;32melse\u001b[0m\u001b[0;34m:\u001b[0m\u001b[0;34m\u001b[0m\u001b[0m\n\u001b[1;32m   4135\u001b[0m                 \u001b[0;32mreturn\u001b[0m \u001b[0mself\u001b[0m\u001b[0;34m.\u001b[0m\u001b[0m_apply_broadcast\u001b[0m\u001b[0;34m(\u001b[0m\u001b[0mf\u001b[0m\u001b[0;34m,\u001b[0m \u001b[0maxis\u001b[0m\u001b[0;34m)\u001b[0m\u001b[0;34m\u001b[0m\u001b[0m\n",
      "\u001b[0;32m/home/lenny/anaconda3/lib/python3.5/site-packages/pandas/core/frame.py\u001b[0m in \u001b[0;36m_apply_standard\u001b[0;34m(self, func, axis, ignore_failures, reduce)\u001b[0m\n\u001b[1;32m   4227\u001b[0m             \u001b[0;32mtry\u001b[0m\u001b[0;34m:\u001b[0m\u001b[0;34m\u001b[0m\u001b[0m\n\u001b[1;32m   4228\u001b[0m                 \u001b[0;32mfor\u001b[0m \u001b[0mi\u001b[0m\u001b[0;34m,\u001b[0m \u001b[0mv\u001b[0m \u001b[0;32min\u001b[0m \u001b[0menumerate\u001b[0m\u001b[0;34m(\u001b[0m\u001b[0mseries_gen\u001b[0m\u001b[0;34m)\u001b[0m\u001b[0;34m:\u001b[0m\u001b[0;34m\u001b[0m\u001b[0m\n\u001b[0;32m-> 4229\u001b[0;31m                     \u001b[0mresults\u001b[0m\u001b[0;34m[\u001b[0m\u001b[0mi\u001b[0m\u001b[0;34m]\u001b[0m \u001b[0;34m=\u001b[0m \u001b[0mfunc\u001b[0m\u001b[0;34m(\u001b[0m\u001b[0mv\u001b[0m\u001b[0;34m)\u001b[0m\u001b[0;34m\u001b[0m\u001b[0m\n\u001b[0m\u001b[1;32m   4230\u001b[0m                     \u001b[0mkeys\u001b[0m\u001b[0;34m.\u001b[0m\u001b[0mappend\u001b[0m\u001b[0;34m(\u001b[0m\u001b[0mv\u001b[0m\u001b[0;34m.\u001b[0m\u001b[0mname\u001b[0m\u001b[0;34m)\u001b[0m\u001b[0;34m\u001b[0m\u001b[0m\n\u001b[1;32m   4231\u001b[0m             \u001b[0;32mexcept\u001b[0m \u001b[0mException\u001b[0m \u001b[0;32mas\u001b[0m \u001b[0me\u001b[0m\u001b[0;34m:\u001b[0m\u001b[0;34m\u001b[0m\u001b[0m\n",
      "\u001b[0;32m<ipython-input-250-6834b04a0c8d>\u001b[0m in \u001b[0;36m<lambda>\u001b[0;34m(row)\u001b[0m\n\u001b[1;32m      1\u001b[0m mhm = np.stack((pd.DataFrame(KB).apply(\n\u001b[0;32m----> 2\u001b[0;31m             lambda row: vector_cos5(row, test_row).argmin(axis=0), axis=1)\n\u001b[0m\u001b[1;32m      3\u001b[0m           for test_row in test), axis=0)\n",
      "\u001b[0;32m<ipython-input-249-a6eac313867b>\u001b[0m in \u001b[0;36mvector_cos5\u001b[0;34m(v1, v2)\u001b[0m\n\u001b[1;32m      5\u001b[0m \u001b[0;34m\u001b[0m\u001b[0m\n\u001b[1;32m      6\u001b[0m \u001b[0;32mdef\u001b[0m \u001b[0mvector_cos5\u001b[0m\u001b[0;34m(\u001b[0m\u001b[0mv1\u001b[0m\u001b[0;34m,\u001b[0m \u001b[0mv2\u001b[0m\u001b[0;34m)\u001b[0m\u001b[0;34m:\u001b[0m\u001b[0;34m\u001b[0m\u001b[0m\n\u001b[0;32m----> 7\u001b[0;31m     \u001b[0mprod\u001b[0m \u001b[0;34m=\u001b[0m \u001b[0mdot_product2\u001b[0m\u001b[0;34m(\u001b[0m\u001b[0mv1\u001b[0m\u001b[0;34m,\u001b[0m \u001b[0mv2\u001b[0m\u001b[0;34m)\u001b[0m\u001b[0;34m\u001b[0m\u001b[0m\n\u001b[0m\u001b[1;32m      8\u001b[0m     \u001b[0mlen1\u001b[0m \u001b[0;34m=\u001b[0m \u001b[0mnp\u001b[0m\u001b[0;34m.\u001b[0m\u001b[0msqrt\u001b[0m\u001b[0;34m(\u001b[0m\u001b[0mdot_product2\u001b[0m\u001b[0;34m(\u001b[0m\u001b[0mv1\u001b[0m\u001b[0;34m,\u001b[0m \u001b[0mv1\u001b[0m\u001b[0;34m)\u001b[0m\u001b[0;34m)\u001b[0m\u001b[0;34m\u001b[0m\u001b[0m\n\u001b[1;32m      9\u001b[0m     \u001b[0mlen2\u001b[0m \u001b[0;34m=\u001b[0m \u001b[0mnp\u001b[0m\u001b[0;34m.\u001b[0m\u001b[0msqrt\u001b[0m\u001b[0;34m(\u001b[0m\u001b[0mdot_product2\u001b[0m\u001b[0;34m(\u001b[0m\u001b[0mv2\u001b[0m\u001b[0;34m,\u001b[0m \u001b[0mv2\u001b[0m\u001b[0;34m)\u001b[0m\u001b[0;34m)\u001b[0m\u001b[0;34m\u001b[0m\u001b[0m\n",
      "\u001b[0;32m<ipython-input-249-a6eac313867b>\u001b[0m in \u001b[0;36mdot_product2\u001b[0;34m(v1, v2)\u001b[0m\n\u001b[1;32m      1\u001b[0m \u001b[0;32mimport\u001b[0m \u001b[0moperator\u001b[0m\u001b[0;34m\u001b[0m\u001b[0m\n\u001b[1;32m      2\u001b[0m \u001b[0;32mdef\u001b[0m \u001b[0mdot_product2\u001b[0m\u001b[0;34m(\u001b[0m\u001b[0mv1\u001b[0m\u001b[0;34m,\u001b[0m \u001b[0mv2\u001b[0m\u001b[0;34m)\u001b[0m\u001b[0;34m:\u001b[0m\u001b[0;34m\u001b[0m\u001b[0m\n\u001b[0;32m----> 3\u001b[0;31m     \u001b[0;32mreturn\u001b[0m \u001b[0msum\u001b[0m\u001b[0;34m(\u001b[0m\u001b[0mmap\u001b[0m\u001b[0;34m(\u001b[0m\u001b[0moperator\u001b[0m\u001b[0;34m.\u001b[0m\u001b[0mmul\u001b[0m\u001b[0;34m,\u001b[0m \u001b[0mv1\u001b[0m\u001b[0;34m,\u001b[0m \u001b[0mv2\u001b[0m\u001b[0;34m)\u001b[0m\u001b[0;34m,\u001b[0m \u001b[0maxis\u001b[0m\u001b[0;34m=\u001b[0m\u001b[0;36m0\u001b[0m\u001b[0;34m)\u001b[0m\u001b[0;34m\u001b[0m\u001b[0m\n\u001b[0m\u001b[1;32m      4\u001b[0m \u001b[0;34m\u001b[0m\u001b[0m\n\u001b[1;32m      5\u001b[0m \u001b[0;34m\u001b[0m\u001b[0m\n",
      "\u001b[0;31mTypeError\u001b[0m: ('sum() takes no keyword arguments', 'occurred at index 0')"
     ]
    }
   ],
   "source": [
    "mhm = np.stack((pd.DataFrame(KB).apply(\n",
    "            lambda row: vector_cos5(row, test_row).argmin(axis=0), axis=1)\n",
    "          for test_row in test), axis=0)"
   ]
  },
  {
   "cell_type": "code",
   "execution_count": 42,
   "metadata": {
    "collapsed": false
   },
   "outputs": [],
   "source": [
    "def complete(KB, data):\n",
    "    data_c = list([data[0]])\n",
    "    for index, clust in enumerate(data[:-1]):\n",
    "            i = 0\n",
    "            ed = KB.get_edge_data(clust, data[index+1])\n",
    "            while ed and i < 20:\n",
    "                data_c.append(ed['node'])\n",
    "                ed = KB.get_edge_data(ed['node'], data[index+1])\n",
    "                i += 1\n",
    "            data_c.append(data[index+1])\n",
    "    return data_c"
   ]
  },
  {
   "cell_type": "markdown",
   "metadata": {},
   "source": [
    "Let $KB$ be the set of all recorded vectors, then\n",
    "$$ X = \\big( x \\in KB \\text{ s.t. } \\mid dist(a,b) - x \\mid \\, \\le \\alpha \\big)$$ where $\\alpha$ represents the density our graph, $\\epsilon$ is a noise term, and \n",
    "\n",
    "$$ X_S \\sim N(X, \\eta S + \\epsilon)$$ where $S = p(S, x,y)$, then\n",
    "\n",
    "$$ p(x\\mid a,b) = \n",
    "\\frac{dist^2(a,x^\\ast_0) \n",
    "+ dist^2(b, x^\\ast_1)}{\\sum_{x\\in {X_S}}dist^2(a,x_0) \n",
    "+ dist^2(b, x_1)} $$\n",
    "\n"
   ]
  },
  {
   "cell_type": "markdown",
   "metadata": {},
   "source": [
    "If $ X_S $ is empty, then add $x = dist(a,b)$ to KB"
   ]
  },
  {
   "cell_type": "code",
   "execution_count": 3,
   "metadata": {
    "collapsed": true
   },
   "outputs": [],
   "source": [
    "KB = nx.read_gpickle('./KB2.gpickle')"
   ]
  },
  {
   "cell_type": "code",
   "execution_count": 13,
   "metadata": {
    "collapsed": true
   },
   "outputs": [],
   "source": [
    "embeds = np.load('./embedL2!.npy')"
   ]
  },
  {
   "cell_type": "code",
   "execution_count": 17,
   "metadata": {
    "collapsed": false
   },
   "outputs": [],
   "source": [
    "data = [KB.node[word]['number'] for word in words]"
   ]
  },
  {
   "cell_type": "code",
   "execution_count": 43,
   "metadata": {
    "collapsed": false
   },
   "outputs": [],
   "source": [
    "d_full = complete(KB, words)"
   ]
  },
  {
   "cell_type": "code",
   "execution_count": 47,
   "metadata": {
    "collapsed": false
   },
   "outputs": [],
   "source": [
    "d_full_id = [KB.node[word]['number'] for word in d_full]"
   ]
  },
  {
   "cell_type": "code",
   "execution_count": 50,
   "metadata": {
    "collapsed": false
   },
   "outputs": [],
   "source": [
    "counts = collections.Counter()\n",
    "for datum in d_full_id:\n",
    "    counts.update([datum])"
   ]
  },
  {
   "cell_type": "code",
   "execution_count": 52,
   "metadata": {
    "collapsed": false
   },
   "outputs": [],
   "source": [
    "revdic = {node[1]['number']:node[0] for node in KB.nodes(True)}"
   ]
  },
  {
   "cell_type": "code",
   "execution_count": 56,
   "metadata": {
    "collapsed": false
   },
   "outputs": [],
   "source": [
    "mc = [item[0] for item in counts.most_common(15)]"
   ]
  },
  {
   "cell_type": "code",
   "execution_count": 57,
   "metadata": {
    "collapsed": false
   },
   "outputs": [],
   "source": [
    "label_mc = [revdic[item] for item in mc]"
   ]
  },
  {
   "cell_type": "code",
   "execution_count": 101,
   "metadata": {
    "collapsed": false
   },
   "outputs": [],
   "source": [
    "c2 = {label: collections.Counter() for label in label_mc}"
   ]
  },
  {
   "cell_type": "code",
   "execution_count": 102,
   "metadata": {
    "collapsed": false
   },
   "outputs": [],
   "source": [
    "for index in range(len(d_full[:-1])):\n",
    "    ed = KB.get_edge_data(d_full[index], d_full[index+1])\n",
    "    if ed and ed['node'] in c2:\n",
    "        c2[ed['node']].update([\" \".join([d_full[index], d_full[index+1]])])"
   ]
  },
  {
   "cell_type": "code",
   "execution_count": 103,
   "metadata": {
    "collapsed": false
   },
   "outputs": [
    {
     "data": {
      "text/plain": [
       "Counter({',” 8715': 1,\n",
       "         '9425 9623': 1,\n",
       "         'As 9113': 1,\n",
       "         'Before 9295': 1,\n",
       "         'But 17951': 1,\n",
       "         'Find 9529': 1,\n",
       "         'In 9217': 1,\n",
       "         'Luckily 9452': 1,\n",
       "         'Miss 8700': 1,\n",
       "         'Queen 9293': 2,\n",
       "         'Seven 9068': 1,\n",
       "         'Trims 9268': 1,\n",
       "         'Turtle 19243': 12,\n",
       "         'absence 8709': 1,\n",
       "         'agreeable 9293': 1,\n",
       "         'always 9354': 11,\n",
       "         'am 8846': 3,\n",
       "         'am 8859': 1,\n",
       "         'apologise 8588': 1,\n",
       "         'backgammon 8709': 2,\n",
       "         'barrowful 8746': 1,\n",
       "         'beaux 8746': 1,\n",
       "         'cared 9119': 1,\n",
       "         'charming 9418': 1,\n",
       "         'chicken 8709': 1,\n",
       "         'chiefly 8925': 1,\n",
       "         'continued 9515': 1,\n",
       "         'day 8643': 1,\n",
       "         'done 9529': 1,\n",
       "         'dwelling 9185': 1,\n",
       "         'entreat 9268': 2,\n",
       "         'evil 8588': 1,\n",
       "         'exceedingly 8588': 1,\n",
       "         'exhibit 8588': 1,\n",
       "         'folly 9217': 1,\n",
       "         'from 8579': 9,\n",
       "         'got 9293': 2,\n",
       "         'hanging 9110': 1,\n",
       "         'happened 8744': 1,\n",
       "         'happiness 8583': 3,\n",
       "         'happy 8885': 1,\n",
       "         'hearing 8744': 2,\n",
       "         'hesitate 8588': 1,\n",
       "         'high 9105': 1,\n",
       "         'his 17451': 2,\n",
       "         'how 8744': 1,\n",
       "         'increased 8949': 1,\n",
       "         'invited 8744': 1,\n",
       "         'listening 9405': 1,\n",
       "         'machines 8583': 1,\n",
       "         'me 9529': 1,\n",
       "         'mention 8858': 1,\n",
       "         'mouse 9405': 1,\n",
       "         'much 11234': 3,\n",
       "         'much 18640': 1,\n",
       "         'neighbourhood 8588': 3,\n",
       "         'nursing 9401': 1,\n",
       "         'oddly 8588': 1,\n",
       "         'off 18041': 2,\n",
       "         'openly 8709': 1,\n",
       "         'pleasanter 9309': 1,\n",
       "         'portion 8643': 1,\n",
       "         'poured 8583': 1,\n",
       "         'powers 8709': 1,\n",
       "         'proverb 8588': 1,\n",
       "         'puzzling 9089': 1,\n",
       "         'quarrelling 9089': 1,\n",
       "         'relate 9362': 1,\n",
       "         'returning 8906': 2,\n",
       "         's 17963': 1,\n",
       "         'sense 9293': 2,\n",
       "         'sharply 8709': 1,\n",
       "         'should 9415': 2,\n",
       "         'slates 9185': 4,\n",
       "         'sort 8709': 2,\n",
       "         'suffer 8679': 1,\n",
       "         'take 8889': 1,\n",
       "         'then 9293': 2,\n",
       "         'thing 8754': 2,\n",
       "         'too 9312': 1,\n",
       "         'undoubtedly 8588': 1,\n",
       "         've 9024': 1,\n",
       "         'wag 9341': 1,\n",
       "         'whom 9545': 1,\n",
       "         'winter 8588': 1,\n",
       "         'words 9285': 1,\n",
       "         'write 9529': 1,\n",
       "         'yet 9293': 1,\n",
       "         '‘ 10131': 5,\n",
       "         '“ 18607': 1})"
      ]
     },
     "execution_count": 103,
     "metadata": {},
     "output_type": "execute_result"
    }
   ],
   "source": [
    "c2['20146']"
   ]
  },
  {
   "cell_type": "code",
   "execution_count": 86,
   "metadata": {
    "collapsed": false
   },
   "outputs": [
    {
     "data": {
      "text/plain": [
       "Counter({82: 1,\n",
       "         84: 1,\n",
       "         353: 1,\n",
       "         357: 1,\n",
       "         383: 1,\n",
       "         498: 1,\n",
       "         501: 1,\n",
       "         514: 2,\n",
       "         582: 1,\n",
       "         674: 1,\n",
       "         803: 1,\n",
       "         813: 1,\n",
       "         866: 4,\n",
       "         902: 1,\n",
       "         1088: 1,\n",
       "         1096: 1,\n",
       "         1317: 1,\n",
       "         1586: 1,\n",
       "         1882: 1,\n",
       "         1941: 1,\n",
       "         1973: 3,\n",
       "         2242: 1,\n",
       "         2253: 1,\n",
       "         2515: 1,\n",
       "         2555: 1,\n",
       "         2594: 1,\n",
       "         2764: 1,\n",
       "         2996: 1,\n",
       "         3032: 1,\n",
       "         3087: 1,\n",
       "         3143: 2,\n",
       "         3296: 1,\n",
       "         3337: 1,\n",
       "         3417: 1,\n",
       "         3431: 1,\n",
       "         3475: 1,\n",
       "         3531: 1,\n",
       "         3537: 1,\n",
       "         3644: 1,\n",
       "         3693: 1,\n",
       "         3703: 1,\n",
       "         3740: 1,\n",
       "         3865: 1,\n",
       "         4239: 1,\n",
       "         4241: 1,\n",
       "         4429: 1,\n",
       "         4473: 1,\n",
       "         4573: 2,\n",
       "         4746: 1,\n",
       "         4801: 1,\n",
       "         4836: 1,\n",
       "         4881: 2,\n",
       "         4965: 4,\n",
       "         5129: 2,\n",
       "         5253: 1,\n",
       "         5331: 1,\n",
       "         5597: 1,\n",
       "         5605: 1,\n",
       "         5701: 1,\n",
       "         5727: 2,\n",
       "         5820: 1,\n",
       "         5932: 1,\n",
       "         6068: 1,\n",
       "         6162: 1,\n",
       "         6287: 1,\n",
       "         6290: 1,\n",
       "         6348: 1,\n",
       "         6387: 1,\n",
       "         6393: 1,\n",
       "         6400: 1,\n",
       "         6548: 1,\n",
       "         6594: 1,\n",
       "         6606: 1,\n",
       "         6646: 1,\n",
       "         6673: 1,\n",
       "         6870: 1,\n",
       "         7003: 1,\n",
       "         7153: 1,\n",
       "         7185: 2,\n",
       "         7405: 1,\n",
       "         7480: 1,\n",
       "         7527: 1,\n",
       "         7623: 1,\n",
       "         7630: 1,\n",
       "         7697: 1,\n",
       "         7851: 1,\n",
       "         7935: 1,\n",
       "         8048: 1,\n",
       "         8087: 1,\n",
       "         8170: 1,\n",
       "         8218: 1,\n",
       "         8344: 2,\n",
       "         8347: 1,\n",
       "         8400: 1,\n",
       "         8551: 2,\n",
       "         8557: 1,\n",
       "         8570: 2,\n",
       "         8573: 2,\n",
       "         8583: 1,\n",
       "         8588: 2,\n",
       "         8614: 1,\n",
       "         8629: 1,\n",
       "         8633: 1,\n",
       "         8642: 6,\n",
       "         8659: 3,\n",
       "         8695: 1,\n",
       "         8709: 5,\n",
       "         8774: 1,\n",
       "         8785: 1,\n",
       "         8787: 1,\n",
       "         8789: 5,\n",
       "         8858: 2,\n",
       "         8931: 1,\n",
       "         8945: 2,\n",
       "         8949: 2,\n",
       "         8972: 1,\n",
       "         9056: 1,\n",
       "         9104: 10,\n",
       "         9105: 2,\n",
       "         9137: 1,\n",
       "         9188: 1,\n",
       "         9210: 2,\n",
       "         9217: 1,\n",
       "         9219: 1,\n",
       "         9221: 4,\n",
       "         9229: 1,\n",
       "         9230: 1,\n",
       "         9258: 1,\n",
       "         9263: 1,\n",
       "         9276: 1,\n",
       "         9285: 1,\n",
       "         9293: 2,\n",
       "         9303: 1,\n",
       "         9418: 3,\n",
       "         9421: 1,\n",
       "         9449: 4,\n",
       "         9478: 2,\n",
       "         9499: 4,\n",
       "         9509: 2,\n",
       "         9514: 1,\n",
       "         9515: 4,\n",
       "         9523: 1,\n",
       "         9536: 1,\n",
       "         9544: 3,\n",
       "         9557: 1,\n",
       "         10960: 1,\n",
       "         17298: 1,\n",
       "         17447: 1,\n",
       "         17634: 2,\n",
       "         17673: 1,\n",
       "         17728: 1,\n",
       "         17786: 1,\n",
       "         18011: 1,\n",
       "         18162: 1,\n",
       "         18336: 2,\n",
       "         18364: 1})"
      ]
     },
     "execution_count": 86,
     "metadata": {},
     "output_type": "execute_result"
    }
   ],
   "source": [
    "c2['20520']"
   ]
  },
  {
   "cell_type": "code",
   "execution_count": null,
   "metadata": {
    "collapsed": true
   },
   "outputs": [],
   "source": []
  }
 ],
 "metadata": {
  "anaconda-cloud": {},
  "kernelspec": {
   "display_name": "Python [conda root]",
   "language": "python",
   "name": "conda-root-py"
  },
  "language_info": {
   "codemirror_mode": {
    "name": "ipython",
    "version": 3
   },
   "file_extension": ".py",
   "mimetype": "text/x-python",
   "name": "python",
   "nbconvert_exporter": "python",
   "pygments_lexer": "ipython3",
   "version": "3.5.2"
  }
 },
 "nbformat": 4,
 "nbformat_minor": 0
}
