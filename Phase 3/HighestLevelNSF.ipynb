{
 "cells": [
  {
   "cell_type": "code",
   "execution_count": 1,
   "metadata": {
    "collapsed": false
   },
   "outputs": [],
   "source": [
    "import pandas as pd\n",
    "import random\n",
    "import numpy as np\n",
    "import networkx as nx\n",
    "import nltk\n",
    "import tensorflow as tf\n",
    "import collections\n",
    "import math\n",
    "import os.path\n",
    "from six.moves import xrange\n",
    "from sklearn.metrics.pairwise import cosine_similarity\n",
    "from sklearn.cluster import MiniBatchKMeans\n",
    "from sklearn.cluster import Birch\n",
    "import  glob\n",
    "from pprint import pprint"
   ]
  },
  {
   "cell_type": "code",
   "execution_count": 5,
   "metadata": {
    "collapsed": true
   },
   "outputs": [],
   "source": [
    "Doc = collections.namedtuple('Doc',['investigator', 'amount', 'abstract'])\n",
    "\n",
    "def load2(fn):\n",
    "    doc = nltk.data.load(fn)\n",
    "    wrds = nltk.tokenize.wordpunct_tokenize(doc)\n",
    "    investigator = \" \".join(wrds[wrds.index(\"Investigator\")+2:\n",
    "                          min(wrds.index('@' if '@' in wrds else \"Abstract\", \n",
    "                                          wrds.index(\"Investigator\"))-1, \n",
    "                              wrds.index('(', wrds.index(\"Investigator\")))])\n",
    "    amount = int(wrds[wrds.index(\"Amt\") + 4: wrds.index('(', wrds.index(\"Amt\"))][0])\n",
    "    abstract = \" \".join(wrds[wrds.index('Abstract')+2:])\n",
    "    return Doc(investigator, amount, abstract)\n",
    "\n"
   ]
  },
  {
   "cell_type": "code",
   "execution_count": 7,
   "metadata": {
    "collapsed": true
   },
   "outputs": [],
   "source": [
    "filenames = [fn for fn in glob.iglob('./text/Part*/*/*/*.txt', recursive=False)]\n",
    "words = []\n",
    "for i in range(4000):\n",
    "    words += load2(filenames[i]).abstract.split(\" \")"
   ]
  },
  {
   "cell_type": "code",
   "execution_count": 260,
   "metadata": {
    "collapsed": true
   },
   "outputs": [],
   "source": [
    "w_vocab = np.unique(words)"
   ]
  },
  {
   "cell_type": "code",
   "execution_count": 12,
   "metadata": {
    "collapsed": false
   },
   "outputs": [
    {
     "name": "stdout",
     "output_type": "stream",
     "text": [
      "Most common words (+UNK) [['UNK', 1851], ('the', 39472), ('of', 37005), ('.', 29906), ('and', 26950), (',', 25266), ('to', 17952), ('in', 15637), ('will', 10950), ('a', 10623), ('-', 10106), ('The', 8042), ('is', 7897), ('be', 7580), ('for', 7342), ('on', 5197), ('(', 4685), ('are', 4335), ('that', 4277), (')', 4235)]\n",
      "Sample data [50, 1017, 1842, 5, 169, 5740, 2, 255, 8594, 142] ['In', 'tropical', 'forests', ',', 'most', 'colonization', 'of', 'small', 'disturbed', 'areas']\n"
     ]
    }
   ],
   "source": [
    "vocabulary_size = 30000\n",
    "\n",
    "def build_dataset(words):\n",
    "  count = [['UNK', -1]]\n",
    "  count.extend(collections.Counter(words).most_common(vocabulary_size - 1))\n",
    "  dictionary = dict()\n",
    "  for word, _ in count:\n",
    "    dictionary[word] = len(dictionary)\n",
    "  data = list()\n",
    "  unk_count = 0\n",
    "  for word in words:\n",
    "    if word in dictionary:\n",
    "      index = dictionary[word]\n",
    "    else:\n",
    "      index = 0  # dictionary['UNK']\n",
    "      unk_count += 1\n",
    "    data.append(index)\n",
    "  count[0][1] = unk_count\n",
    "  reverse_dictionary = dict(zip(dictionary.values(), dictionary.keys()))\n",
    "  return data, count, dictionary, reverse_dictionary\n",
    "\n",
    "data, count, dictionary, reverse_dictionary = build_dataset(words)\n",
    "#del words  # Hint to reduce memory.\n",
    "print('Most common words (+UNK)', count[:20])\n",
    "print('Sample data', data[:10], [reverse_dictionary[i] for i in data[:10]])\n",
    "\n",
    "data_index = 0"
   ]
  },
  {
   "cell_type": "code",
   "execution_count": 14,
   "metadata": {
    "collapsed": false
   },
   "outputs": [
    {
     "name": "stdout",
     "output_type": "stream",
     "text": [
      "470 ., -> 567 g\n",
      "470 ., -> 3 .\n",
      "20058 treefall -> 567 g\n",
      "20058 treefall -> 19 )\n",
      "3628 gaps -> 12 is\n",
      "3628 gaps -> 19 )\n",
      "19 ) -> 470 .,\n",
      "19 ) -> 17763 dormant\n"
     ]
    }
   ],
   "source": [
    "\n",
    "# Step 3: Function to generate a training batch for the skip-gram model.\n",
    "def generate_batch(data, batch_size, num_skips, skip_window):\n",
    "  global data_index\n",
    "  assert batch_size % num_skips == 0\n",
    "  assert num_skips <= 2 * skip_window\n",
    "  batch = np.ndarray(shape=(batch_size), dtype=np.int32)\n",
    "  labels = np.ndarray(shape=(batch_size, 1), dtype=np.int32)\n",
    "  span = 2 * skip_window + 1 # [ skip_window target skip_window ]\n",
    "  buffer = collections.deque(maxlen=span)\n",
    "  for _ in range(span):\n",
    "    buffer.append(data[data_index])\n",
    "    data_index = (data_index + 1) % len(data)\n",
    "  for i in range(batch_size // num_skips):\n",
    "    target = skip_window  # target label at the center of the buffer\n",
    "    targets_to_avoid = [ skip_window ]\n",
    "    for j in range(num_skips):\n",
    "      while target in targets_to_avoid:\n",
    "        target = random.randint(0, span - 1)\n",
    "      targets_to_avoid.append(target)\n",
    "      batch[i * num_skips + j] = buffer[skip_window]\n",
    "      labels[i * num_skips + j, 0] = buffer[target]\n",
    "    buffer.append(data[data_index])\n",
    "    data_index = (data_index + 1) % len(data)\n",
    "  return batch, labels\n",
    "\n",
    "batch, labels = generate_batch(data, batch_size=8, num_skips=2, skip_window=3)\n",
    "for i in range(8):\n",
    "  print(batch[i], reverse_dictionary[batch[i]],\n",
    "      '->', labels[i, 0], reverse_dictionary[labels[i, 0]])\n",
    "\n",
    "# Step 4: Build and train a skip-gram model.\n",
    "\n",
    "batch_size = 200\n",
    "embedding_size = 100  # Dimension of the embedding vector.\n",
    "skip_window = 4       # How many words to consider left and right.\n",
    "num_skips = 4         # How many times to reuse an input to generate a label.\n",
    "\n",
    "# We pick a random validation set to sample nearest neighbors. Here we limit the\n",
    "# validation samples to the words that have a low numeric ID, which by\n",
    "# construction are also the most frequent.\n",
    "valid_size = 16     # Random set of words to evaluate similarity on.\n",
    "valid_window = 100  # Only pick dev samples in the head of the distribution.\n",
    "valid_examples = np.random.choice(valid_window, valid_size, replace=False)\n",
    "num_sampled = 70    # Number of negative examples to sample."
   ]
  },
  {
   "cell_type": "code",
   "execution_count": 15,
   "metadata": {
    "collapsed": false,
    "scrolled": false
   },
   "outputs": [
    {
     "name": "stdout",
     "output_type": "stream",
     "text": [
      "Average loss at step  0 :  265.254150391\n",
      "Average loss at step  2000 :  92.4890298867\n",
      "Average loss at step  4000 :  33.3492318027\n",
      "Average loss at step  6000 :  19.0819047289\n",
      "Average loss at step  8000 :  13.4565618474\n",
      "Average loss at step  10000 :  10.9229915547\n",
      "Average loss at step  12000 :  9.80759984016\n",
      "Average loss at step  14000 :  7.92964790916\n",
      "Average loss at step  16000 :  6.10592630756\n",
      "Average loss at step  18000 :  5.88555697155\n",
      "Average loss at step  20000 :  5.76747018445\n"
     ]
    }
   ],
   "source": [
    "graph = tf.Graph()\n",
    "\n",
    "with graph.as_default():\n",
    "\n",
    "  # Input data.\n",
    "  train_inputs = tf.placeholder(tf.int32, shape=[batch_size])\n",
    "  train_labels = tf.placeholder(tf.int32, shape=[batch_size, 1])\n",
    "  valid_dataset = tf.constant(valid_examples, dtype=tf.int32)\n",
    "\n",
    "  # Ops and variables pinned to the CPU because of missing GPU implementation\n",
    "  with tf.device('/cpu:0'):\n",
    "    # Look up embeddings for inputs.\n",
    "    embeddings = tf.Variable(\n",
    "        tf.random_uniform([vocabulary_size, embedding_size], -1.0, 1.0))\n",
    "    embed = tf.nn.embedding_lookup(embeddings, train_inputs)\n",
    "\n",
    "    # Construct the variables for the NCE loss\n",
    "    nce_weights = tf.Variable(\n",
    "        tf.truncated_normal([vocabulary_size, embedding_size],\n",
    "                            stddev=1.0 / math.sqrt(embedding_size)))\n",
    "    nce_biases = tf.Variable(tf.zeros([vocabulary_size]))\n",
    "\n",
    "  # Compute the average NCE loss for the batch.\n",
    "  # tf.nce_loss automatically draws a new sample of the negative labels each\n",
    "  # time we evaluate the loss.\n",
    "  loss = tf.reduce_mean(\n",
    "      tf.nn.nce_loss(nce_weights, nce_biases, embed, train_labels,\n",
    "                     num_sampled, vocabulary_size))\n",
    "\n",
    "  # Construct the SGD optimizer using a learning rate of 1.0.\n",
    "  optimizer = tf.train.GradientDescentOptimizer(1.0).minimize(loss)\n",
    "\n",
    "  # Compute the cosine similarity between minibatch examples and all embeddings.\n",
    "  norm = tf.sqrt(tf.reduce_sum(tf.square(embeddings), 1, keep_dims=True))\n",
    "  normalized_embeddings = embeddings / norm\n",
    "  valid_embeddings = tf.nn.embedding_lookup(\n",
    "      normalized_embeddings, valid_dataset)\n",
    "  similarity = tf.matmul(\n",
    "      valid_embeddings, normalized_embeddings, transpose_b=True)\n",
    "\n",
    "  # Add variable initializer.\n",
    "  init = tf.initialize_all_variables()\n",
    "\n",
    "# Step 5: Begin training.\n",
    "num_steps = 20001\n",
    "\n",
    "with tf.Session(graph=graph) as session:\n",
    "    # We must initialize all variables before we use them.\n",
    "    init.run()\n",
    "    \n",
    "    average_loss = 0\n",
    "    for step in xrange(num_steps):\n",
    "        batch_inputs, batch_labels = generate_batch(data,\n",
    "            batch_size, num_skips, skip_window)\n",
    "        feed_dict = {train_inputs : batch_inputs, train_labels : batch_labels}\n",
    "\n",
    "    # We perform one update step by evaluating the optimizer op (including it\n",
    "    # in the list of returned values for session.run()\n",
    "        _, loss_val = session.run([optimizer, loss], feed_dict=feed_dict)\n",
    "        average_loss += loss_val\n",
    "                \n",
    "        if step % 2000 == 0:\n",
    "          if step > 0:\n",
    "            average_loss /= 2000\n",
    "          # The average loss is an estimate of the loss over the last 2000 batches.\n",
    "          print(\"Average loss at step \", step, \": \", average_loss)\n",
    "          average_loss = 0\n",
    "    final_embeddings = normalized_embeddings.eval()\n",
    "    "
   ]
  },
  {
   "cell_type": "code",
   "execution_count": 256,
   "metadata": {
    "collapsed": false
   },
   "outputs": [],
   "source": [
    "from functools import partial\n",
    "\n",
    "class Infix(object):\n",
    "    def __init__(self, func):\n",
    "        self.func = func\n",
    "    def __or__(self, other):\n",
    "        return self.func(other)\n",
    "    def __ror__(self, other):\n",
    "        return Infix(partial(self.func, other))\n",
    "    def __call__(self, v1, v2):\n",
    "        return self.func(v1, v2)"
   ]
  },
  {
   "cell_type": "code",
   "execution_count": 16,
   "metadata": {
    "collapsed": false,
    "scrolled": false
   },
   "outputs": [
    {
     "name": "stderr",
     "output_type": "stream",
     "text": [
      "/home/lenny/anaconda3/lib/python3.5/site-packages/sklearn/cluster/k_means_.py:1381: RuntimeWarning: init_size=3000 should be larger than k=5000. Setting it to 3*k\n",
      "  init_size=init_size)\n"
     ]
    }
   ],
   "source": [
    "embd = np.array([final_embeddings[datum] for datum in data])\n",
    "\n",
    "fit = MiniBatchKMeans(n_clusters=5000, max_iter=200000, batch_size=1000)\n",
    "\n",
    "labels = fit.fit(embd).labels_"
   ]
  },
  {
   "cell_type": "code",
   "execution_count": 29,
   "metadata": {
    "collapsed": false
   },
   "outputs": [],
   "source": [
    "gr_dict = {}\n",
    "rev_gr_dict = {}\n",
    "for index in range(len(data)):\n",
    "    if labels[index] not in rev_gr_dict:\n",
    "        rev_gr_dict[labels[index]] = collections.Counter()\n",
    "    if reverse_dictionary[data[index]] not in gr_dict:\n",
    "        gr_dict[reverse_dictionary[data[index]]] = labels[index]\n",
    "    rev_gr_dict[labels[index]].update([reverse_dictionary[data[index]]])"
   ]
  },
  {
   "cell_type": "code",
   "execution_count": 44,
   "metadata": {
    "collapsed": true
   },
   "outputs": [],
   "source": [
    "fit = MiniBatchKMeans(n_clusters=2000, max_iter=200000, batch_size=1000)"
   ]
  },
  {
   "cell_type": "code",
   "execution_count": 46,
   "metadata": {
    "collapsed": true
   },
   "outputs": [],
   "source": [
    "vocabulary_size = len(rev_gr_dict)"
   ]
  },
  {
   "cell_type": "code",
   "execution_count": 48,
   "metadata": {
    "collapsed": false,
    "scrolled": false
   },
   "outputs": [],
   "source": [
    "embd = np.array([final_embeddings[datum[1]] - \\\n",
    "                 final_embeddings[datum[0]] for datum in nl_words])"
   ]
  },
  {
   "cell_type": "code",
   "execution_count": 49,
   "metadata": {
    "collapsed": true
   },
   "outputs": [],
   "source": [
    "fit = fit.fit(embd)"
   ]
  },
  {
   "cell_type": "code",
   "execution_count": 277,
   "metadata": {
    "collapsed": false,
    "scrolled": false
   },
   "outputs": [
    {
     "data": {
      "text/plain": [
       "MiniBatchKMeans(batch_size=1000, compute_labels=True, init='k-means++',\n",
       "        init_size=None, max_iter=200000, max_no_improvement=10,\n",
       "        n_clusters=1600, n_init=3, random_state=None,\n",
       "        reassignment_ratio=0.01, tol=0.0, verbose=0)"
      ]
     },
     "execution_count": 277,
     "metadata": {},
     "output_type": "execute_result"
    }
   ],
   "source": [
    "fit.set_params(n_clusters=1600)"
   ]
  },
  {
   "cell_type": "code",
   "execution_count": 278,
   "metadata": {
    "collapsed": true
   },
   "outputs": [],
   "source": [
    "nl_words = [(labels[i], labels[i+1]) for i in range(len(labels)-1)]"
   ]
  },
  {
   "cell_type": "code",
   "execution_count": 279,
   "metadata": {
    "collapsed": true
   },
   "outputs": [],
   "source": [
    "embd_l = np.array([final_embeddings[datum] for datum in nnl_data])"
   ]
  },
  {
   "cell_type": "code",
   "execution_count": 280,
   "metadata": {
    "collapsed": true
   },
   "outputs": [],
   "source": [
    "fit = fit.fit(embd_l[1:] - embd_l[:-1])"
   ]
  },
  {
   "cell_type": "code",
   "execution_count": 281,
   "metadata": {
    "collapsed": false
   },
   "outputs": [],
   "source": [
    "labels = fit.labels_ + vocabulary_size"
   ]
  },
  {
   "cell_type": "code",
   "execution_count": 282,
   "metadata": {
    "collapsed": false
   },
   "outputs": [],
   "source": [
    "vocabulary_size += fit.n_clusters"
   ]
  },
  {
   "cell_type": "code",
   "execution_count": 283,
   "metadata": {
    "collapsed": false
   },
   "outputs": [],
   "source": [
    "for index in range(len(nl_words[:-1])):\n",
    "    if labels[index] not in rev_gr_dict:\n",
    "        rev_gr_dict[labels[index]] = collections.Counter()\n",
    "    if nl_words[index] not in gr_dict:\n",
    "        gr_dict[nl_words[index]] = labels[index]\n",
    "    rev_gr_dict[labels[index]].update([nl_words[index]])\n",
    "    \n",
    "    "
   ]
  },
  {
   "cell_type": "code",
   "execution_count": 284,
   "metadata": {
    "collapsed": false,
    "scrolled": true
   },
   "outputs": [],
   "source": [
    "nl_data = [nnl_data[0]]\n",
    "\n",
    "for i in range(len(nl_words)):\n",
    "    nl_data.extend([labels[i], nnl_data[i+1]])\n",
    "\n",
    "nnl_data = labels"
   ]
  },
  {
   "cell_type": "code",
   "execution_count": 285,
   "metadata": {
    "collapsed": false,
    "scrolled": false
   },
   "outputs": [
    {
     "name": "stdout",
     "output_type": "stream",
     "text": [
      "Average loss at step  0 :  268.239318848\n",
      "Average loss at step  2000 :  44.4170894086\n",
      "Average loss at step  4000 :  4.91700512797\n",
      "Average loss at step  6000 :  2.94302289337\n",
      "Average loss at step  8000 :  2.64875911403\n",
      "Average loss at step  10000 :  2.46706008929\n",
      "Average loss at step  12000 :  2.39057153022\n",
      "Average loss at step  14000 :  2.30778747791\n",
      "Average loss at step  16000 :  2.23004532826\n",
      "Average loss at step  18000 :  2.16408869284\n",
      "Average loss at step  20000 :  2.12751751754\n"
     ]
    }
   ],
   "source": [
    "for i in range(1):\n",
    "    graph = tf.Graph()\n",
    "\n",
    "    with graph.as_default():\n",
    "\n",
    "      # Input data.\n",
    "      train_inputs = tf.placeholder(tf.int32, shape=[batch_size])\n",
    "      train_labels = tf.placeholder(tf.int32, shape=[batch_size, 1])\n",
    "      valid_dataset = tf.constant(valid_examples, dtype=tf.int32)\n",
    "\n",
    "      # Ops and variables pinned to the CPU because of missing GPU implementation\n",
    "      with tf.device('/cpu:0'):\n",
    "        # Look up embeddings for inputs.\n",
    "        embeddings = tf.Variable(\n",
    "            tf.random_uniform([vocabulary_size, embedding_size], -1.0, 1.0))\n",
    "        embed = tf.nn.embedding_lookup(embeddings, train_inputs)\n",
    "\n",
    "        # Construct the variables for the NCE loss\n",
    "        nce_weights = tf.Variable(\n",
    "            tf.truncated_normal([vocabulary_size, embedding_size],\n",
    "                                stddev=1.0 / math.sqrt(embedding_size)))\n",
    "        nce_biases = tf.Variable(tf.zeros([vocabulary_size]))\n",
    "\n",
    "      # Compute the average NCE loss for the batch.\n",
    "      # tf.nce_loss automatically draws a new sample of the negative labels each\n",
    "      # time we evaluate the loss.\n",
    "      loss = tf.reduce_mean(\n",
    "          tf.nn.nce_loss(nce_weights, nce_biases, embed, train_labels,\n",
    "                         num_sampled, vocabulary_size))\n",
    "\n",
    "      # Construct the SGD optimizer using a learning rate of 1.0.\n",
    "      optimizer = tf.train.GradientDescentOptimizer(1.0).minimize(loss)\n",
    "\n",
    "      # Compute the cosine similarity between minibatch examples and all embeddings.\n",
    "      norm = tf.sqrt(tf.reduce_sum(tf.square(embeddings), 1, keep_dims=True))\n",
    "      normalized_embeddings = embeddings / norm\n",
    "      valid_embeddings = tf.nn.embedding_lookup(\n",
    "          normalized_embeddings, valid_dataset)\n",
    "      similarity = tf.matmul(\n",
    "          valid_embeddings, normalized_embeddings, transpose_b=True)\n",
    "\n",
    "      # Add variable initializer.\n",
    "      init = tf.initialize_all_variables()\n",
    "\n",
    "    # Step 5: Begin training.\n",
    "    num_steps = 20001\n",
    "\n",
    "    with tf.Session(graph=graph) as session:\n",
    "        # We must initialize all variables before we use them.\n",
    "        init.run()\n",
    "\n",
    "        average_loss = 0\n",
    "        for step in xrange(num_steps):\n",
    "            batch_inputs, batch_labels = generate_batch(nl_data,\n",
    "                batch_size, num_skips, skip_window)\n",
    "            feed_dict = {train_inputs : batch_inputs, train_labels : batch_labels}\n",
    "\n",
    "        # We perform one update step by evaluating the optimizer op (including it\n",
    "        # in the list of returned values for session.run()\n",
    "            _, loss_val = session.run([optimizer, loss], feed_dict=feed_dict)\n",
    "            average_loss += loss_val\n",
    "\n",
    "            if step % 2000 == 0:\n",
    "              if step > 0:\n",
    "                average_loss /= 2000\n",
    "              # The average loss is an estimate of the loss over the last 2000 batches.\n",
    "              print(\"Average loss at step \", step, \": \", average_loss)\n",
    "              average_loss = 0\n",
    "        final_embeddings = normalized_embeddings.eval()\n"
   ]
  },
  {
   "cell_type": "code",
   "execution_count": 286,
   "metadata": {
    "collapsed": false
   },
   "outputs": [],
   "source": [
    "test = collections.Counter(nnl_data).most_common(1)[0][0]\n",
    "\n",
    "samp = sample(test, rev_gr_dict)\n",
    "for pre, _, node in anytree.RenderTree(samp):\n",
    "    print(\"%s%s\" % (pre, node.name))"
   ]
  },
  {
   "cell_type": "code",
   "execution_count": 301,
   "metadata": {
    "collapsed": false
   },
   "outputs": [],
   "source": [
    "from anytree.dotexport import RenderTreeGraph\n",
    "\n",
    "tree = RenderTreeGraph(samp)\n",
    "\n",
    "tree.to_picture('./test10.png')"
   ]
  },
  {
   "cell_type": "code",
   "execution_count": 288,
   "metadata": {
    "collapsed": false
   },
   "outputs": [],
   "source": [
    "import anytree\n",
    "def sample(label, top, parent=None):\n",
    "    \n",
    "    if not(type(label) == str) and label > 3719:\n",
    "        node = anytree.Node(label, parent=parent)\n",
    "        total = sum(list(top[label].values()))\n",
    "        probabilities = [top[label][item]/total \n",
    "                                 for item in top[label]]\n",
    "        choices = list(top[label].keys())\n",
    "        indices = [i for i in range(len(choices))]\n",
    "        choice = choices[np.random.choice(indices, p=probabilities)]\n",
    "        sample(choice[0], top, node)\n",
    "        sample(choice[1], top, node)\n",
    "    else:\n",
    "        parent = anytree.Node(label, parent=parent)\n",
    "        probabilities = list(top[label].values())\n",
    "        if len(probabilities) > 1:\n",
    "            total = sum(list(top[label].values()))\n",
    "            probabilities = np.array(probabilities)/total\n",
    "            choices = list(top[label].keys())\n",
    "            indices = [i for i in range(len(choices))]\n",
    "            choice = choices[np.random.choice(indices, p=probabilities)]\n",
    "            node = anytree.Node(choice, parent=parent)\n",
    "        else:\n",
    "            node = anytree.Node(list(top[label].keys())[0], parent=parent)\n",
    "    \n",
    "    return node"
   ]
  },
  {
   "cell_type": "code",
   "execution_count": 119,
   "metadata": {
    "collapsed": true
   },
   "outputs": [],
   "source": [
    "def sample_sent(label, top):\n",
    "    if type(list(top[label].keys())[0]) == tuple:\n",
    "        total = sum(list(top[label].values()))\n",
    "        probabilities = [top[label][item]/total \n",
    "                                 for item in top[label]]\n",
    "        choices = list(top[label].keys())\n",
    "        indices = [i for i in range(len(choices))]\n",
    "        choice = choices[np.random.choice(indices, p=probabilities)]\n",
    "        l_sent = sample_sent(choice[0], top)\n",
    "        r_sent = sample_sent(choice[1], top)\n",
    "        \n",
    "        return l_sent +  r_sent\n",
    "    else:\n",
    "        return [label]"
   ]
  },
  {
   "cell_type": "code",
   "execution_count": 608,
   "metadata": {
    "collapsed": true
   },
   "outputs": [],
   "source": [
    "revdic = open('rev_dic.pkl', 'wb')\n",
    "\n",
    "pickle.dump(rev_gr_dict, revdic, protocol=3)\n",
    "\n",
    "revdic.close()\n",
    "dic = open('dic.pkl', 'wb')\n",
    "pickle.dump(gr_dict, dic, protocol=3)\n",
    "\n",
    "np.save('./fembd.npy', final_embeddings)"
   ]
  },
  {
   "cell_type": "code",
   "execution_count": null,
   "metadata": {
    "collapsed": true
   },
   "outputs": [],
   "source": []
  }
 ],
 "metadata": {
  "anaconda-cloud": {},
  "kernelspec": {
   "display_name": "Python [default]",
   "language": "python",
   "name": "python3"
  },
  "language_info": {
   "codemirror_mode": {
    "name": "ipython",
    "version": 3
   },
   "file_extension": ".py",
   "mimetype": "text/x-python",
   "name": "python",
   "nbconvert_exporter": "python",
   "pygments_lexer": "ipython3",
   "version": "3.5.2"
  }
 },
 "nbformat": 4,
 "nbformat_minor": 0
}
